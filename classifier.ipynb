{
 "cells": [
  {
   "cell_type": "code",
   "execution_count": 103,
   "id": "680c45b0",
   "metadata": {},
   "outputs": [],
   "source": [
    "import praw\n",
    "import prawcore\n",
    "import pandas as pd\n",
    "import numpy as np \n",
    "import os\n",
    "import re\n",
    "import math\n",
    "\n",
    "from tqdm import tqdm\n",
    "from datetime import datetime, date\n",
    "\n",
    "from sklearn.model_selection import train_test_split\n",
    "from sklearn.linear_model import LogisticRegression\n",
    "from sklearn.metrics import confusion_matrix\n",
    "from sklearn.metrics import auc, precision_recall_curve\n",
    "from mlxtend.plotting import plot_decision_regions\n",
    "\n",
    "import matplotlib.pyplot as plt\n",
    "\n",
    "import statsmodels.api as sm\n",
    "\n",
    "\n",
    "# from spacy import load\n",
    "# import warnings\n",
    "# warnings.filterwarnings(\"ignore\", message=r\"\\[W008\\]\", category=UserWarning)"
   ]
  },
  {
   "cell_type": "code",
   "execution_count": 2,
   "id": "5dfce6c0",
   "metadata": {},
   "outputs": [],
   "source": [
    "path = 'data/user_data'"
   ]
  },
  {
   "cell_type": "code",
   "execution_count": 57,
   "id": "04c50ddd",
   "metadata": {},
   "outputs": [],
   "source": [
    "def data_parser(infile_name):\n",
    "\n",
    "    path = 'data/user_data'\n",
    "\n",
    "    df = pd.read_csv(f'{path}/{infile_name}')\n",
    "    bot_substrings = ['bot', 'b0t']\n",
    "    df['heuristic'] = 0\n",
    "    df['username'] = df['username'].str.lower()\n",
    "\n",
    "\n",
    "    for ind in df.index:\n",
    "        if any(x in df['username'][ind] for x in bot_substrings):\n",
    "            df['heuristic'][ind] = 1\n",
    "        elif pd.to_timedelta(df['avg_reply_speed'][ind]) < pd.to_timedelta('0 days 00:05:00'):\n",
    "            df['heuristic'][ind] = 1\n",
    "        elif pd.to_timedelta(df['avg_comment_time_interval'][ind]) < pd.to_timedelta('0 days 00:05:00'):\n",
    "            df['heuristic'][ind] = 1\n",
    "        elif df['avg_comment_similarity'][ind] >= .8 or df['avg_comment_similarity'][ind] <= .1:\n",
    "            df['heuristic'][ind] = 1\n",
    "        elif df['karma_ratio'][ind] < .15:\n",
    "            df['heuristic'][ind] = 1\n",
    "        else:\n",
    "            df['heuristic'][ind] = 0\n",
    "    df['heuristic'].value_counts()\n",
    "    return df"
   ]
  },
  {
   "cell_type": "code",
   "execution_count": 89,
   "id": "3f948c1d",
   "metadata": {},
   "outputs": [
    {
     "name": "stderr",
     "output_type": "stream",
     "text": [
      "C:\\Users\\ray\\AppData\\Local\\Temp/ipykernel_19460/2199117663.py:23: SettingWithCopyWarning: \n",
      "A value is trying to be set on a copy of a slice from a DataFrame\n",
      "\n",
      "See the caveats in the documentation: https://pandas.pydata.org/pandas-docs/stable/user_guide/indexing.html#returning-a-view-versus-a-copy\n",
      "  df['bot_score'][ind] = 0\n",
      "C:\\Users\\ray\\AppData\\Local\\Temp/ipykernel_19460/2199117663.py:21: SettingWithCopyWarning: \n",
      "A value is trying to be set on a copy of a slice from a DataFrame\n",
      "\n",
      "See the caveats in the documentation: https://pandas.pydata.org/pandas-docs/stable/user_guide/indexing.html#returning-a-view-versus-a-copy\n",
      "  df['bot_score'][ind] = 1\n",
      "C:\\Users\\ray\\AppData\\Local\\Temp/ipykernel_19460/2199117663.py:17: SettingWithCopyWarning: \n",
      "A value is trying to be set on a copy of a slice from a DataFrame\n",
      "\n",
      "See the caveats in the documentation: https://pandas.pydata.org/pandas-docs/stable/user_guide/indexing.html#returning-a-view-versus-a-copy\n",
      "  df['bot_score'][ind] = 1\n",
      "C:\\Users\\ray\\AppData\\Local\\Temp/ipykernel_19460/2199117663.py:15: SettingWithCopyWarning: \n",
      "A value is trying to be set on a copy of a slice from a DataFrame\n",
      "\n",
      "See the caveats in the documentation: https://pandas.pydata.org/pandas-docs/stable/user_guide/indexing.html#returning-a-view-versus-a-copy\n",
      "  df['bot_score'][ind] = 1\n",
      "C:\\Users\\ray\\AppData\\Local\\Temp/ipykernel_19460/2199117663.py:19: SettingWithCopyWarning: \n",
      "A value is trying to be set on a copy of a slice from a DataFrame\n",
      "\n",
      "See the caveats in the documentation: https://pandas.pydata.org/pandas-docs/stable/user_guide/indexing.html#returning-a-view-versus-a-copy\n",
      "  df['bot_score'][ind] = 1\n",
      "C:\\Users\\ray\\AppData\\Local\\Temp/ipykernel_19460/2199117663.py:13: SettingWithCopyWarning: \n",
      "A value is trying to be set on a copy of a slice from a DataFrame\n",
      "\n",
      "See the caveats in the documentation: https://pandas.pydata.org/pandas-docs/stable/user_guide/indexing.html#returning-a-view-versus-a-copy\n",
      "  df['bot_score'][ind] = 1\n"
     ]
    }
   ],
   "source": [
    "df_sus = data_parser('suspected_bots.csv')"
   ]
  },
  {
   "cell_type": "code",
   "execution_count": 97,
   "id": "92e71cd8",
   "metadata": {},
   "outputs": [
    {
     "name": "stderr",
     "output_type": "stream",
     "text": [
      "C:\\Users\\ray\\AppData\\Local\\Temp/ipykernel_19460/2199117663.py:23: SettingWithCopyWarning: \n",
      "A value is trying to be set on a copy of a slice from a DataFrame\n",
      "\n",
      "See the caveats in the documentation: https://pandas.pydata.org/pandas-docs/stable/user_guide/indexing.html#returning-a-view-versus-a-copy\n",
      "  df['bot_score'][ind] = 0\n",
      "C:\\Users\\ray\\AppData\\Local\\Temp/ipykernel_19460/2199117663.py:19: SettingWithCopyWarning: \n",
      "A value is trying to be set on a copy of a slice from a DataFrame\n",
      "\n",
      "See the caveats in the documentation: https://pandas.pydata.org/pandas-docs/stable/user_guide/indexing.html#returning-a-view-versus-a-copy\n",
      "  df['bot_score'][ind] = 1\n",
      "C:\\Users\\ray\\AppData\\Local\\Temp/ipykernel_19460/2199117663.py:13: SettingWithCopyWarning: \n",
      "A value is trying to be set on a copy of a slice from a DataFrame\n",
      "\n",
      "See the caveats in the documentation: https://pandas.pydata.org/pandas-docs/stable/user_guide/indexing.html#returning-a-view-versus-a-copy\n",
      "  df['bot_score'][ind] = 1\n",
      "C:\\Users\\ray\\AppData\\Local\\Temp/ipykernel_19460/2199117663.py:15: SettingWithCopyWarning: \n",
      "A value is trying to be set on a copy of a slice from a DataFrame\n",
      "\n",
      "See the caveats in the documentation: https://pandas.pydata.org/pandas-docs/stable/user_guide/indexing.html#returning-a-view-versus-a-copy\n",
      "  df['bot_score'][ind] = 1\n",
      "C:\\Users\\ray\\AppData\\Local\\Temp/ipykernel_19460/2199117663.py:17: SettingWithCopyWarning: \n",
      "A value is trying to be set on a copy of a slice from a DataFrame\n",
      "\n",
      "See the caveats in the documentation: https://pandas.pydata.org/pandas-docs/stable/user_guide/indexing.html#returning-a-view-versus-a-copy\n",
      "  df['bot_score'][ind] = 1\n",
      "C:\\Users\\ray\\AppData\\Local\\Temp/ipykernel_19460/2199117663.py:21: SettingWithCopyWarning: \n",
      "A value is trying to be set on a copy of a slice from a DataFrame\n",
      "\n",
      "See the caveats in the documentation: https://pandas.pydata.org/pandas-docs/stable/user_guide/indexing.html#returning-a-view-versus-a-copy\n",
      "  df['bot_score'][ind] = 1\n"
     ]
    }
   ],
   "source": [
    "df_all = data_parser('all_bots.csv')"
   ]
  },
  {
   "cell_type": "code",
   "execution_count": 119,
   "id": "a1cfc7d8",
   "metadata": {},
   "outputs": [
    {
     "data": {
      "text/html": [
       "<div>\n",
       "<style scoped>\n",
       "    .dataframe tbody tr th:only-of-type {\n",
       "        vertical-align: middle;\n",
       "    }\n",
       "\n",
       "    .dataframe tbody tr th {\n",
       "        vertical-align: top;\n",
       "    }\n",
       "\n",
       "    .dataframe thead th {\n",
       "        text-align: right;\n",
       "    }\n",
       "</style>\n",
       "<table border=\"1\" class=\"dataframe\">\n",
       "  <thead>\n",
       "    <tr style=\"text-align: right;\">\n",
       "      <th></th>\n",
       "      <th>Unnamed: 0</th>\n",
       "      <th>username</th>\n",
       "      <th>comment_karma</th>\n",
       "      <th>submission_karma</th>\n",
       "      <th>karma_ratio</th>\n",
       "      <th>avg_comment_similarity</th>\n",
       "      <th>avg_toxicity</th>\n",
       "      <th>avg_reply_speed</th>\n",
       "      <th>avg_comment_time_interval</th>\n",
       "      <th>bot_score</th>\n",
       "    </tr>\n",
       "  </thead>\n",
       "  <tbody>\n",
       "    <tr>\n",
       "      <th>0</th>\n",
       "      <td>0</td>\n",
       "      <td>grandmink</td>\n",
       "      <td>600</td>\n",
       "      <td>816</td>\n",
       "      <td>0.7353</td>\n",
       "      <td>0.663183</td>\n",
       "      <td>0.104107</td>\n",
       "      <td>0 days 00:05:08</td>\n",
       "      <td>2 days 03:54:57</td>\n",
       "      <td>0</td>\n",
       "    </tr>\n",
       "    <tr>\n",
       "      <th>1</th>\n",
       "      <td>1</td>\n",
       "      <td>independent_day7209</td>\n",
       "      <td>212</td>\n",
       "      <td>5200</td>\n",
       "      <td>0.0408</td>\n",
       "      <td>0.388920</td>\n",
       "      <td>0.029127</td>\n",
       "      <td>0 days 00:21:39</td>\n",
       "      <td>0 days 08:07:21</td>\n",
       "      <td>1</td>\n",
       "    </tr>\n",
       "    <tr>\n",
       "      <th>2</th>\n",
       "      <td>2</td>\n",
       "      <td>warmbicycle8961</td>\n",
       "      <td>5</td>\n",
       "      <td>1</td>\n",
       "      <td>5.0000</td>\n",
       "      <td>0.514270</td>\n",
       "      <td>0.292615</td>\n",
       "      <td>0 days 02:08:21</td>\n",
       "      <td>48 days 14:34:49</td>\n",
       "      <td>0</td>\n",
       "    </tr>\n",
       "    <tr>\n",
       "      <th>3</th>\n",
       "      <td>3</td>\n",
       "      <td>flimsy-insurance-978</td>\n",
       "      <td>102</td>\n",
       "      <td>1</td>\n",
       "      <td>102.0000</td>\n",
       "      <td>0.335881</td>\n",
       "      <td>0.106027</td>\n",
       "      <td>0 days 03:30:24</td>\n",
       "      <td>0 days 00:00:37</td>\n",
       "      <td>1</td>\n",
       "    </tr>\n",
       "    <tr>\n",
       "      <th>4</th>\n",
       "      <td>4</td>\n",
       "      <td>markjug67</td>\n",
       "      <td>3</td>\n",
       "      <td>1</td>\n",
       "      <td>3.0000</td>\n",
       "      <td>0.389103</td>\n",
       "      <td>0.008184</td>\n",
       "      <td>0 days 04:10:41</td>\n",
       "      <td>0 days 00:19:51</td>\n",
       "      <td>0</td>\n",
       "    </tr>\n",
       "    <tr>\n",
       "      <th>...</th>\n",
       "      <td>...</td>\n",
       "      <td>...</td>\n",
       "      <td>...</td>\n",
       "      <td>...</td>\n",
       "      <td>...</td>\n",
       "      <td>...</td>\n",
       "      <td>...</td>\n",
       "      <td>...</td>\n",
       "      <td>...</td>\n",
       "      <td>...</td>\n",
       "    </tr>\n",
       "    <tr>\n",
       "      <th>886</th>\n",
       "      <td>886</td>\n",
       "      <td>real_market8974</td>\n",
       "      <td>83</td>\n",
       "      <td>1</td>\n",
       "      <td>83.0000</td>\n",
       "      <td>0.429026</td>\n",
       "      <td>0.036792</td>\n",
       "      <td>0 days 00:44:24</td>\n",
       "      <td>6 days 01:50:22</td>\n",
       "      <td>0</td>\n",
       "    </tr>\n",
       "    <tr>\n",
       "      <th>887</th>\n",
       "      <td>887</td>\n",
       "      <td>false-attemp</td>\n",
       "      <td>1071</td>\n",
       "      <td>1911</td>\n",
       "      <td>0.5604</td>\n",
       "      <td>0.520226</td>\n",
       "      <td>0.012752</td>\n",
       "      <td>0 days 03:03:07</td>\n",
       "      <td>5 days 17:44:08</td>\n",
       "      <td>0</td>\n",
       "    </tr>\n",
       "    <tr>\n",
       "      <th>888</th>\n",
       "      <td>888</td>\n",
       "      <td>plane-kale-7588</td>\n",
       "      <td>42</td>\n",
       "      <td>1</td>\n",
       "      <td>42.0000</td>\n",
       "      <td>0.144107</td>\n",
       "      <td>0.000723</td>\n",
       "      <td>0 days 01:34:57</td>\n",
       "      <td>5 days 13:07:20</td>\n",
       "      <td>0</td>\n",
       "    </tr>\n",
       "    <tr>\n",
       "      <th>889</th>\n",
       "      <td>889</td>\n",
       "      <td>dogdry7071</td>\n",
       "      <td>287</td>\n",
       "      <td>1</td>\n",
       "      <td>287.0000</td>\n",
       "      <td>-0.072151</td>\n",
       "      <td>0.216564</td>\n",
       "      <td>0 days 00:53:38</td>\n",
       "      <td>11 days 23:41:52</td>\n",
       "      <td>1</td>\n",
       "    </tr>\n",
       "    <tr>\n",
       "      <th>890</th>\n",
       "      <td>890</td>\n",
       "      <td>consistenaad</td>\n",
       "      <td>467</td>\n",
       "      <td>6927</td>\n",
       "      <td>0.0674</td>\n",
       "      <td>0.560631</td>\n",
       "      <td>0.078088</td>\n",
       "      <td>0 days 04:14:32</td>\n",
       "      <td>5 days 00:22:45</td>\n",
       "      <td>1</td>\n",
       "    </tr>\n",
       "  </tbody>\n",
       "</table>\n",
       "<p>891 rows × 10 columns</p>\n",
       "</div>"
      ],
      "text/plain": [
       "     Unnamed: 0              username  comment_karma  submission_karma  \\\n",
       "0             0             grandmink            600               816   \n",
       "1             1   independent_day7209            212              5200   \n",
       "2             2       warmbicycle8961              5                 1   \n",
       "3             3  flimsy-insurance-978            102                 1   \n",
       "4             4             markjug67              3                 1   \n",
       "..          ...                   ...            ...               ...   \n",
       "886         886       real_market8974             83                 1   \n",
       "887         887          false-attemp           1071              1911   \n",
       "888         888       plane-kale-7588             42                 1   \n",
       "889         889            dogdry7071            287                 1   \n",
       "890         890          consistenaad            467              6927   \n",
       "\n",
       "     karma_ratio  avg_comment_similarity  avg_toxicity  avg_reply_speed  \\\n",
       "0         0.7353                0.663183      0.104107  0 days 00:05:08   \n",
       "1         0.0408                0.388920      0.029127  0 days 00:21:39   \n",
       "2         5.0000                0.514270      0.292615  0 days 02:08:21   \n",
       "3       102.0000                0.335881      0.106027  0 days 03:30:24   \n",
       "4         3.0000                0.389103      0.008184  0 days 04:10:41   \n",
       "..           ...                     ...           ...              ...   \n",
       "886      83.0000                0.429026      0.036792  0 days 00:44:24   \n",
       "887       0.5604                0.520226      0.012752  0 days 03:03:07   \n",
       "888      42.0000                0.144107      0.000723  0 days 01:34:57   \n",
       "889     287.0000               -0.072151      0.216564  0 days 00:53:38   \n",
       "890       0.0674                0.560631      0.078088  0 days 04:14:32   \n",
       "\n",
       "    avg_comment_time_interval  bot_score  \n",
       "0             2 days 03:54:57          0  \n",
       "1             0 days 08:07:21          1  \n",
       "2            48 days 14:34:49          0  \n",
       "3             0 days 00:00:37          1  \n",
       "4             0 days 00:19:51          0  \n",
       "..                        ...        ...  \n",
       "886           6 days 01:50:22          0  \n",
       "887           5 days 17:44:08          0  \n",
       "888           5 days 13:07:20          0  \n",
       "889          11 days 23:41:52          1  \n",
       "890           5 days 00:22:45          1  \n",
       "\n",
       "[891 rows x 10 columns]"
      ]
     },
     "execution_count": 119,
     "metadata": {},
     "output_type": "execute_result"
    }
   ],
   "source": [
    "df_sus"
   ]
  },
  {
   "cell_type": "code",
   "execution_count": 113,
   "id": "37f1a1b8",
   "metadata": {},
   "outputs": [],
   "source": [
    "def feature_extraction(df):\n",
    "    df_copy = df.copy()\n",
    "#     df_copy.drop(columns=['avg_toxicity'])\n",
    "    for ind in df_copy.index:\n",
    "        df_copy['avg_comment_time_interval'][ind] = float(pd.to_timedelta(df_copy['avg_comment_time_interval'][ind]).total_seconds())\n",
    "        df_copy['avg_reply_speed'][ind] = float(pd.to_timedelta(df_copy['avg_reply_speed'][ind]).total_seconds())\n",
    "    \n",
    "    usernames = df_copy.values[:, 1]\n",
    "    comment_karma = df_copy.values[:, 2]\n",
    "    submission_karma = df_copy.values[:, 3]\n",
    "    karma_ratio = df_copy.values[:, 4]\n",
    "    comment_similarity = df_copy.values[:, 5]\n",
    "    toxicity = df_copy.values[:, 6]\n",
    "    reply_speed = df_copy.values[:, 7]\n",
    "    time_interval = df_copy.values[:, 8]\n",
    "    heuristics = df_copy.values[:, 9]\n",
    "\n",
    "    features = df_copy.values[:, 2:10]\n",
    "    labels = df_copy.values[:, 10]\n",
    "    \n",
    "    return features, labels"
   ]
  },
  {
   "cell_type": "code",
   "execution_count": 136,
   "id": "92371389",
   "metadata": {},
   "outputs": [],
   "source": [
    "def train_df(df):\n",
    "    features, labels = feature_extraction(df)\n",
    "\n",
    "    X_train, X_test, y_train, y_test = train_test_split(features, labels, random_state=104, test_size=.2, shuffle=True)\n",
    "    \n",
    "    y_train = y_train.astype(int)\n",
    "    y_test = y_test.astype(int)\n",
    "    \n",
    "\n",
    "    clf = LogisticRegression()\n",
    "\n",
    "    clf.fit(X_train, y_train)\n",
    "    print('Coefficients: \\n', clf.coef_)\n",
    "\n",
    "    y_pred = clf.predict(X_test)\n",
    "    y_score = clf.predict_proba(X_test)[:, 1]\n",
    "\n",
    "    return y_pred, y_test, y_score\n",
    " "
   ]
  },
  {
   "cell_type": "code",
   "execution_count": 175,
   "id": "74535abd",
   "metadata": {},
   "outputs": [],
   "source": [
    "def train_for_logit_df(df):\n",
    "    features, labels = feature_extraction(df)\n",
    "    \n",
    "\n",
    "    X_train, X_test, y_train, y_test = train_test_split(features, labels, random_state=104, test_size=.2, shuffle=True)\n",
    "    \n",
    "    X_test = X_test.astype(np.float64)\n",
    "    X_train = X_train.astype(np.float64)\n",
    "    y_train = y_train.astype(int)\n",
    "    y_test = y_test.astype(int)\n",
    "    \n",
    "    column_name = [\"comment_karma\", \"submission_karma\", \"karma_ratio\", \"avg_comment_similarity\", \"avg_toxicity\", \"avg_reply_speed\",\"avg_comment_time_interval\", \"heuristic\"]\n",
    "    \n",
    "\n",
    "    logit_model=sm.Logit(y_train, X_train)\n",
    "    result=logit_model.fit()\n",
    "    \n",
    "    \n",
    "    \n",
    "    print(result.summary(xname=column_name))\n",
    "    \n",
    "    probabilities  = result.predict(X_test)\n",
    "    y_pred = (probabilities >= 0.5).astype(int)\n",
    "    \n",
    "    with open(f'summary.txt', 'w') as fh:\n",
    "        fh.write(result.summary(xname=column_name).as_text())\n",
    "    \n",
    "    return y_pred, y_test, probabilities\n",
    " "
   ]
  },
  {
   "cell_type": "code",
   "execution_count": 21,
   "id": "1546272b",
   "metadata": {},
   "outputs": [],
   "source": [
    "def matrix(y_test, y_pred, cmap='Blues'):\n",
    "    matrix = confusion_matrix(y_test, y_pred)\n",
    "\n",
    "\n",
    "    classes = ['Not Bot', 'Bot']\n",
    "\n",
    "    plt.matshow(matrix, cmap=cmap)\n",
    "    plt.title('Suspected Bot Predictions')\n",
    "#     plt.colorbar()\n",
    "    plt.clim(0,120)\n",
    "    plt.ylabel('Ground Truth')\n",
    "    plt.xlabel('Prediction')\n",
    "\n",
    "    plt.xticks(range(len(classes)), classes, rotation=45)\n",
    "    plt.yticks(range(len(classes)), classes)\n",
    "\n",
    "    for i in range(len(classes)):\n",
    "        for j in range(len(classes)):\n",
    "            plt.text(j, i, matrix[i, j], ha='center', va='center')\n",
    "    \n",
    "    plt.savefig(\"confusion_matrix.png\", dpi=600)"
   ]
  },
  {
   "cell_type": "code",
   "execution_count": 174,
   "id": "43787f64",
   "metadata": {
    "scrolled": true
   },
   "outputs": [
    {
     "name": "stderr",
     "output_type": "stream",
     "text": [
      "C:\\Users\\ray\\AppData\\Local\\Temp/ipykernel_19460/979684982.py:5: SettingWithCopyWarning: \n",
      "A value is trying to be set on a copy of a slice from a DataFrame\n",
      "\n",
      "See the caveats in the documentation: https://pandas.pydata.org/pandas-docs/stable/user_guide/indexing.html#returning-a-view-versus-a-copy\n",
      "  df_copy['avg_comment_time_interval'][ind] = float(pd.to_timedelta(df_copy['avg_comment_time_interval'][ind]).total_seconds())\n",
      "C:\\Users\\ray\\AppData\\Local\\Temp/ipykernel_19460/979684982.py:6: SettingWithCopyWarning: \n",
      "A value is trying to be set on a copy of a slice from a DataFrame\n",
      "\n",
      "See the caveats in the documentation: https://pandas.pydata.org/pandas-docs/stable/user_guide/indexing.html#returning-a-view-versus-a-copy\n",
      "  df_copy['avg_reply_speed'][ind] = float(pd.to_timedelta(df_copy['avg_reply_speed'][ind]).total_seconds())\n"
     ]
    },
    {
     "name": "stdout",
     "output_type": "stream",
     "text": [
      "Optimization terminated successfully.\n",
      "         Current function value: 0.617708\n",
      "         Iterations 8\n",
      "                           Logit Regression Results                           \n",
      "==============================================================================\n",
      "Dep. Variable:                      y   No. Observations:                  712\n",
      "Model:                          Logit   Df Residuals:                      705\n",
      "Method:                           MLE   Df Model:                            6\n",
      "Date:                Sun, 09 Apr 2023   Pseudo R-squ.:                 0.09010\n",
      "Time:                        19:28:20   Log-Likelihood:                -439.81\n",
      "converged:                       True   LL-Null:                       -483.36\n",
      "Covariance Type:            nonrobust   LLR p-value:                 1.210e-16\n",
      "=============================================================================================\n",
      "                                coef    std err          z      P>|z|      [0.025      0.975]\n",
      "---------------------------------------------------------------------------------------------\n",
      "comment_karma                -0.0069      0.001     -5.870      0.000      -0.009      -0.005\n",
      "submission_karma              0.0010      0.000      5.754      0.000       0.001       0.001\n",
      "karma_ratio                   0.0063      0.001      4.596      0.000       0.004       0.009\n",
      "avg_comment_similarity        0.7290      0.216      3.380      0.001       0.306       1.152\n",
      "avg_toxicity                 -0.0739      0.618     -0.120      0.905      -1.285       1.137\n",
      "avg_reply_speed           -6.049e-08   5.62e-08     -1.075      0.282   -1.71e-07    4.98e-08\n",
      "avg_comment_time_interval -7.388e-08   4.23e-08     -1.745      0.081   -1.57e-07    9.12e-09\n",
      "=============================================================================================\n"
     ]
    },
    {
     "name": "stderr",
     "output_type": "stream",
     "text": [
      "C:\\Users\\ray\\anaconda3\\envs\\Pytorch\\lib\\site-packages\\statsmodels\\discrete\\discrete_model.py:1819: RuntimeWarning: overflow encountered in exp\n",
      "  return 1/(1+np.exp(-X))\n"
     ]
    }
   ],
   "source": [
    "y_pred_sus, y_test_sus, y_score_sus = train_for_logit_df(df_sus)"
   ]
  },
  {
   "cell_type": "code",
   "execution_count": null,
   "id": "f3aa3c37",
   "metadata": {},
   "outputs": [],
   "source": []
  },
  {
   "cell_type": "code",
   "execution_count": 98,
   "id": "06a58f6b",
   "metadata": {
    "scrolled": false
   },
   "outputs": [
    {
     "name": "stderr",
     "output_type": "stream",
     "text": [
      "C:\\Users\\ray\\AppData\\Local\\Temp/ipykernel_19460/4101885825.py:4: SettingWithCopyWarning: \n",
      "A value is trying to be set on a copy of a slice from a DataFrame\n",
      "\n",
      "See the caveats in the documentation: https://pandas.pydata.org/pandas-docs/stable/user_guide/indexing.html#returning-a-view-versus-a-copy\n",
      "  df_copy['avg_comment_time_interval'][ind] = float(pd.to_timedelta(df_copy['avg_comment_time_interval'][ind]).total_seconds())\n",
      "C:\\Users\\ray\\AppData\\Local\\Temp/ipykernel_19460/4101885825.py:5: SettingWithCopyWarning: \n",
      "A value is trying to be set on a copy of a slice from a DataFrame\n",
      "\n",
      "See the caveats in the documentation: https://pandas.pydata.org/pandas-docs/stable/user_guide/indexing.html#returning-a-view-versus-a-copy\n",
      "  df_copy['avg_reply_speed'][ind] = float(pd.to_timedelta(df_copy['avg_reply_speed'][ind]).total_seconds())\n"
     ]
    },
    {
     "name": "stdout",
     "output_type": "stream",
     "text": [
      "Coefficients: \n",
      " [[-3.12295281e-07  2.60868967e-06  3.38121425e-04  3.00314784e-08\n",
      "   2.39139641e-09 -6.35274984e-09 -1.31296356e-08]]\n"
     ]
    }
   ],
   "source": [
    "y_pred_all, y_test_all, y_score_all = train_df(df_all)"
   ]
  },
  {
   "cell_type": "code",
   "execution_count": 142,
   "id": "089c8918",
   "metadata": {
    "scrolled": true
   },
   "outputs": [
    {
     "data": {
      "image/png": "[encoded data removed]",
      "text/plain": [
       "<Figure size 288x288 with 1 Axes>"
      ]
     },
     "metadata": {
      "needs_background": "light"
     },
     "output_type": "display_data"
    }
   ],
   "source": [
    "matrix(y_test_sus, y_pred_sus)"
   ]
  },
  {
   "cell_type": "code",
   "execution_count": 99,
   "id": "e9045891",
   "metadata": {},
   "outputs": [
    {
     "data": {
      "image/png": "[encoded data removed]",
      "text/plain": [
       "<Figure size 288x288 with 1 Axes>"
      ]
     },
     "metadata": {
      "needs_background": "light"
     },
     "output_type": "display_data"
    }
   ],
   "source": [
    "matrix(y_test_all, y_pred_all, cmap=\"Oranges\")"
   ]
  },
  {
   "cell_type": "code",
   "execution_count": 143,
   "id": "9c55470c",
   "metadata": {},
   "outputs": [
    {
     "data": {
      "image/png": "[encoded data removed]",
      "text/plain": [
       "<Figure size 648x648 with 1 Axes>"
      ]
     },
     "metadata": {
      "needs_background": "light"
     },
     "output_type": "display_data"
    }
   ],
   "source": [
    "precision_sus, recall_sus, thresholds_sus = precision_recall_curve(y_test_sus, y_score_sus)\n",
    "precision_all, recall_all, thresholds_all = precision_recall_curve(y_test_all, y_score_all)\n",
    "\n",
    "plt.figure(figsize=(9, 9))\n",
    "plt.plot(recall_sus, precision_sus, 'r', label='suspected user')\n",
    "plt.plot(recall_all, precision_all, 'b', label='known bots')\n",
    "leg = plt.legend(prop={'size': 20})\n",
    "plt.xlabel(\"Recall\", fontsize=14)\n",
    "plt.ylabel(\"Precision\", fontsize=14)\n",
    "# plt.xlim([0, 1])\n",
    "# plt.ylim([0, 1])\n",
    "plt.title(\"Precision-Recall Curve on known/suspected bots\", fontsize=18)\n",
    "plt.show()"
   ]
  },
  {
   "cell_type": "code",
   "execution_count": 144,
   "id": "07ba82dd",
   "metadata": {},
   "outputs": [
    {
     "data": {
      "text/plain": [
       "0.8291658737645498"
      ]
     },
     "execution_count": 144,
     "metadata": {},
     "output_type": "execute_result"
    }
   ],
   "source": [
    "auc(recall_sus, precision_sus)"
   ]
  },
  {
   "cell_type": "code",
   "execution_count": 13,
   "id": "336925c2",
   "metadata": {},
   "outputs": [],
   "source": [
    "pairs = {'recall_sus': recall_sus, 'precision_sus': precision_sus}\n",
    "\n",
    "precision_sus_df = pd.DataFrame.from_dict(pairs)\n",
    "\n",
    "precision_sus_df.to_csv('precision_sus_df.csv', index = False)"
   ]
  },
  {
   "cell_type": "code",
   "execution_count": null,
   "id": "81b65502",
   "metadata": {},
   "outputs": [],
   "source": []
  }
 ],
 "metadata": {
  "kernelspec": {
   "display_name": "Python 3 (ipykernel)",
   "language": "python",
   "name": "python3"
  },
  "language_info": {
   "codemirror_mode": {
    "name": "ipython",
    "version": 3
   },
   "file_extension": ".py",
   "mimetype": "text/x-python",
   "name": "python",
   "nbconvert_exporter": "python",
   "pygments_lexer": "ipython3",
   "version": "3.9.7"
  }
 },
 "nbformat": 4,
 "nbformat_minor": 5
}
