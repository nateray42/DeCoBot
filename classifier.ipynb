{
 "cells": [
  {
   "cell_type": "code",
   "execution_count": 174,
   "id": "680c45b0",
   "metadata": {},
   "outputs": [],
   "source": [
    "import praw\n",
    "import prawcore\n",
    "import pandas as pd\n",
    "import numpy as np \n",
    "import os\n",
    "import re\n",
    "import math\n",
    "from scipy import stats\n",
    "\n",
    "from tqdm import tqdm\n",
    "from datetime import datetime, date\n",
    "\n",
    "from sklearn.metrics import roc_curve, roc_auc_score\n",
    "from sklearn.model_selection import train_test_split\n",
    "from sklearn.linear_model import LogisticRegression\n",
    "from sklearn.metrics import confusion_matrix\n",
    "from sklearn.metrics import auc, precision_recall_curve\n",
    "from mlxtend.plotting import plot_decision_regions\n",
    "\n",
    "import matplotlib.pyplot as plt\n",
    "\n",
    "import statsmodels.api as sm\n",
    "\n",
    "pd.options.mode.chained_assignment = None  # default='warn'\n",
    "\n",
    "\n",
    "# from spacy import load\n",
    "# import warnings\n",
    "# warnings.filterwarnings(\"ignore\", message=r\"\\[W008\\]\", category=UserWarning)"
   ]
  },
  {
   "cell_type": "code",
   "execution_count": 2,
   "id": "5dfce6c0",
   "metadata": {},
   "outputs": [],
   "source": [
    "path = 'data/user_data'"
   ]
  },
  {
   "cell_type": "code",
   "execution_count": 102,
   "id": "04c50ddd",
   "metadata": {},
   "outputs": [],
   "source": [
    "def data_parser(infile_name, index_col = 0):\n",
    "\n",
    "    path = 'data/user_data'\n",
    "\n",
    "    df = pd.read_csv(f'{path}/{infile_name}', index_col = index_col)\n",
    "    bot_substrings = ['bot', 'b0t']\n",
    "    \n",
    "    heuristics = []\n",
    "\n",
    "    for ind in df.index:\n",
    "        Flag = False\n",
    "        if any(x in df['username'][ind] for x in bot_substrings):\n",
    "            Flag = True\n",
    "        elif pd.to_timedelta(df['avg_reply_speed'][ind]) < pd.to_timedelta('0 days 00:05:00'):\n",
    "            Flag = True\n",
    "        elif pd.to_timedelta(df['avg_comment_time_interval'][ind]) < pd.to_timedelta('0 days 00:05:00'):\n",
    "            Flag = True\n",
    "        elif df['avg_comment_similarity'][ind] >= .8 or df['avg_comment_similarity'][ind] <= .1:\n",
    "            Flag = True\n",
    "        elif df['karma_ratio'][ind] < .15:\n",
    "            Flag = True\n",
    "        else:\n",
    "            Flag = False\n",
    "        if Flag:\n",
    "            heuristics.append(1)\n",
    "        else:\n",
    "            heuristics.append(0)\n",
    "    df['heuristic'] = heuristics\n",
    "    \n",
    "    for ind in df.index:\n",
    "        df['avg_comment_time_interval'][ind] = float(pd.to_timedelta(df['avg_comment_time_interval'][ind]).total_seconds())\n",
    "        df['avg_reply_speed'][ind] = float(pd.to_timedelta(df['avg_reply_speed'][ind]).total_seconds())\n",
    "    \n",
    "    df['username'] = df['username'].str.lower()\n",
    "    cols = ['comment_karma', 'submission_karma', 'karma_ratio', 'avg_reply_speed', 'avg_comment_time_interval']\n",
    "    df[cols] = df[cols].astype(float)\n",
    "    \n",
    "    df = df[(np.abs(stats.zscore(df[cols])) < 3).all(axis=1)]\n",
    "\n",
    "    return df"
   ]
  },
  {
   "cell_type": "code",
   "execution_count": 91,
   "id": "3f948c1d",
   "metadata": {},
   "outputs": [],
   "source": [
    "df_sus = data_parser('raw_suspected_bots.csv')\n",
    "df_sus = df_sus.sample(n = 500, replace=True, random_state=1, ignore_index = True)\n",
    "df_sus['label'] = 1"
   ]
  },
  {
   "cell_type": "code",
   "execution_count": 111,
   "id": "1f5fb727",
   "metadata": {},
   "outputs": [
    {
     "data": {
      "text/html": [
       "<div>\n",
       "<style scoped>\n",
       "    .dataframe tbody tr th:only-of-type {\n",
       "        vertical-align: middle;\n",
       "    }\n",
       "\n",
       "    .dataframe tbody tr th {\n",
       "        vertical-align: top;\n",
       "    }\n",
       "\n",
       "    .dataframe thead th {\n",
       "        text-align: right;\n",
       "    }\n",
       "</style>\n",
       "<table border=\"1\" class=\"dataframe\">\n",
       "  <thead>\n",
       "    <tr style=\"text-align: right;\">\n",
       "      <th></th>\n",
       "      <th>username</th>\n",
       "      <th>comment_karma</th>\n",
       "      <th>submission_karma</th>\n",
       "      <th>karma_ratio</th>\n",
       "      <th>avg_comment_similarity</th>\n",
       "      <th>avg_toxicity</th>\n",
       "      <th>avg_reply_speed</th>\n",
       "      <th>avg_comment_time_interval</th>\n",
       "      <th>heuristic</th>\n",
       "      <th>label</th>\n",
       "    </tr>\n",
       "  </thead>\n",
       "  <tbody>\n",
       "    <tr>\n",
       "      <th>0</th>\n",
       "      <td>cuspiafc</td>\n",
       "      <td>2.0</td>\n",
       "      <td>1.0</td>\n",
       "      <td>2.0000</td>\n",
       "      <td>0.157662</td>\n",
       "      <td>0.000949</td>\n",
       "      <td>47959.0</td>\n",
       "      <td>16.0</td>\n",
       "      <td>1</td>\n",
       "      <td>1</td>\n",
       "    </tr>\n",
       "    <tr>\n",
       "      <th>1</th>\n",
       "      <td>lompje</td>\n",
       "      <td>2.0</td>\n",
       "      <td>1.0</td>\n",
       "      <td>2.0000</td>\n",
       "      <td>0.614178</td>\n",
       "      <td>0.007433</td>\n",
       "      <td>2160.0</td>\n",
       "      <td>22425.0</td>\n",
       "      <td>0</td>\n",
       "      <td>1</td>\n",
       "    </tr>\n",
       "    <tr>\n",
       "      <th>2</th>\n",
       "      <td>outrightfoal480</td>\n",
       "      <td>3.0</td>\n",
       "      <td>1.0</td>\n",
       "      <td>3.0000</td>\n",
       "      <td>0.000000</td>\n",
       "      <td>0.061515</td>\n",
       "      <td>4324.0</td>\n",
       "      <td>1939.0</td>\n",
       "      <td>1</td>\n",
       "      <td>1</td>\n",
       "    </tr>\n",
       "    <tr>\n",
       "      <th>3</th>\n",
       "      <td>potential_ad9781</td>\n",
       "      <td>25.0</td>\n",
       "      <td>29.0</td>\n",
       "      <td>0.8621</td>\n",
       "      <td>0.377999</td>\n",
       "      <td>0.000973</td>\n",
       "      <td>1309.0</td>\n",
       "      <td>29448.0</td>\n",
       "      <td>0</td>\n",
       "      <td>1</td>\n",
       "    </tr>\n",
       "    <tr>\n",
       "      <th>4</th>\n",
       "      <td>aromatic-noise-1345</td>\n",
       "      <td>3.0</td>\n",
       "      <td>1.0</td>\n",
       "      <td>3.0000</td>\n",
       "      <td>0.684705</td>\n",
       "      <td>0.008319</td>\n",
       "      <td>150.0</td>\n",
       "      <td>1787.0</td>\n",
       "      <td>1</td>\n",
       "      <td>1</td>\n",
       "    </tr>\n",
       "    <tr>\n",
       "      <th>...</th>\n",
       "      <td>...</td>\n",
       "      <td>...</td>\n",
       "      <td>...</td>\n",
       "      <td>...</td>\n",
       "      <td>...</td>\n",
       "      <td>...</td>\n",
       "      <td>...</td>\n",
       "      <td>...</td>\n",
       "      <td>...</td>\n",
       "      <td>...</td>\n",
       "    </tr>\n",
       "    <tr>\n",
       "      <th>495</th>\n",
       "      <td>theusablesuccess</td>\n",
       "      <td>341.0</td>\n",
       "      <td>1258.0</td>\n",
       "      <td>0.2711</td>\n",
       "      <td>0.000000</td>\n",
       "      <td>0.013383</td>\n",
       "      <td>2318.0</td>\n",
       "      <td>17997.0</td>\n",
       "      <td>1</td>\n",
       "      <td>1</td>\n",
       "    </tr>\n",
       "    <tr>\n",
       "      <th>496</th>\n",
       "      <td>presentequivalent459</td>\n",
       "      <td>36.0</td>\n",
       "      <td>1.0</td>\n",
       "      <td>36.0000</td>\n",
       "      <td>0.496566</td>\n",
       "      <td>0.017939</td>\n",
       "      <td>3182.0</td>\n",
       "      <td>26.0</td>\n",
       "      <td>1</td>\n",
       "      <td>1</td>\n",
       "    </tr>\n",
       "    <tr>\n",
       "      <th>497</th>\n",
       "      <td>photochiguireao</td>\n",
       "      <td>100.0</td>\n",
       "      <td>249.0</td>\n",
       "      <td>0.4016</td>\n",
       "      <td>0.556088</td>\n",
       "      <td>0.016173</td>\n",
       "      <td>159454.0</td>\n",
       "      <td>1061.0</td>\n",
       "      <td>0</td>\n",
       "      <td>1</td>\n",
       "    </tr>\n",
       "    <tr>\n",
       "      <th>498</th>\n",
       "      <td>evilpotato45</td>\n",
       "      <td>574.0</td>\n",
       "      <td>1.0</td>\n",
       "      <td>574.0000</td>\n",
       "      <td>0.615056</td>\n",
       "      <td>0.229536</td>\n",
       "      <td>280.0</td>\n",
       "      <td>36.0</td>\n",
       "      <td>1</td>\n",
       "      <td>1</td>\n",
       "    </tr>\n",
       "    <tr>\n",
       "      <th>499</th>\n",
       "      <td>moodilyinfest663</td>\n",
       "      <td>84.0</td>\n",
       "      <td>76.0</td>\n",
       "      <td>1.1053</td>\n",
       "      <td>0.551583</td>\n",
       "      <td>0.116247</td>\n",
       "      <td>2010.0</td>\n",
       "      <td>607362.0</td>\n",
       "      <td>0</td>\n",
       "      <td>1</td>\n",
       "    </tr>\n",
       "  </tbody>\n",
       "</table>\n",
       "<p>500 rows × 10 columns</p>\n",
       "</div>"
      ],
      "text/plain": [
       "                 username  comment_karma  submission_karma  karma_ratio  \\\n",
       "0                cuspiafc            2.0               1.0       2.0000   \n",
       "1                  lompje            2.0               1.0       2.0000   \n",
       "2         outrightfoal480            3.0               1.0       3.0000   \n",
       "3        potential_ad9781           25.0              29.0       0.8621   \n",
       "4     aromatic-noise-1345            3.0               1.0       3.0000   \n",
       "..                    ...            ...               ...          ...   \n",
       "495      theusablesuccess          341.0            1258.0       0.2711   \n",
       "496  presentequivalent459           36.0               1.0      36.0000   \n",
       "497       photochiguireao          100.0             249.0       0.4016   \n",
       "498          evilpotato45          574.0               1.0     574.0000   \n",
       "499      moodilyinfest663           84.0              76.0       1.1053   \n",
       "\n",
       "     avg_comment_similarity  avg_toxicity  avg_reply_speed  \\\n",
       "0                  0.157662      0.000949          47959.0   \n",
       "1                  0.614178      0.007433           2160.0   \n",
       "2                  0.000000      0.061515           4324.0   \n",
       "3                  0.377999      0.000973           1309.0   \n",
       "4                  0.684705      0.008319            150.0   \n",
       "..                      ...           ...              ...   \n",
       "495                0.000000      0.013383           2318.0   \n",
       "496                0.496566      0.017939           3182.0   \n",
       "497                0.556088      0.016173         159454.0   \n",
       "498                0.615056      0.229536            280.0   \n",
       "499                0.551583      0.116247           2010.0   \n",
       "\n",
       "     avg_comment_time_interval  heuristic  label  \n",
       "0                         16.0          1      1  \n",
       "1                      22425.0          0      1  \n",
       "2                       1939.0          1      1  \n",
       "3                      29448.0          0      1  \n",
       "4                       1787.0          1      1  \n",
       "..                         ...        ...    ...  \n",
       "495                    17997.0          1      1  \n",
       "496                       26.0          1      1  \n",
       "497                     1061.0          0      1  \n",
       "498                       36.0          1      1  \n",
       "499                   607362.0          0      1  \n",
       "\n",
       "[500 rows x 10 columns]"
      ]
     },
     "execution_count": 111,
     "metadata": {},
     "output_type": "execute_result"
    }
   ],
   "source": [
    "df_sus"
   ]
  },
  {
   "cell_type": "code",
   "execution_count": 92,
   "id": "92e71cd8",
   "metadata": {},
   "outputs": [],
   "source": [
    "df_all = data_parser('raw_known_bots.csv')\n",
    "df_all.sample(n = 500, replace=True, random_state=1, ignore_index = True)\n",
    "df_all['label'] = 1"
   ]
  },
  {
   "cell_type": "code",
   "execution_count": 103,
   "id": "fa96dd09",
   "metadata": {},
   "outputs": [],
   "source": [
    "df_cons = data_parser('raw_users_conservative.csv', index_col = False)\n",
    "df_cons = df_cons.sample(n = 1500, replace=True, random_state=1, ignore_index = True)\n",
    "df_cons['label'] = 0"
   ]
  },
  {
   "cell_type": "code",
   "execution_count": 104,
   "id": "5816533a",
   "metadata": {},
   "outputs": [],
   "source": [
    "df_pol = data_parser('raw_users_politics.csv', index_col = False)\n",
    "df_pol = df_pol.sample(n = 1500, replace=True, random_state=1, ignore_index = True)\n",
    "df_pol['label'] = 0"
   ]
  },
  {
   "cell_type": "code",
   "execution_count": 157,
   "id": "1380b09c",
   "metadata": {},
   "outputs": [],
   "source": [
    "df_sus_model = pd.concat([df_sus, df_cons])\n",
    "df_known_model = pd.concat([df_all, df_cons])"
   ]
  },
  {
   "cell_type": "code",
   "execution_count": 158,
   "id": "37f1a1b8",
   "metadata": {},
   "outputs": [],
   "source": [
    "def feature_extraction(df):\n",
    "    df_copy = df.copy()\n",
    "#     df_copy.drop(columns=['avg_toxicity'])\n",
    "\n",
    "    \n",
    "    usernames = df_copy.values[:, 1]\n",
    "    comment_karma = df_copy.values[:, 2]\n",
    "    submission_karma = df_copy.values[:, 3]\n",
    "    karma_ratio = df_copy.values[:, 4]\n",
    "    comment_similarity = df_copy.values[:, 5]\n",
    "    toxicity = df_copy.values[:, 6]\n",
    "    reply_speed = df_copy.values[:, 7]\n",
    "    time_interval = df_copy.values[:, 8]\n",
    "    heuristics = df_copy.values[:, 9]\n",
    "\n",
    "    features = df_copy.values[:, 1:9]\n",
    "    labels = df_copy.values[:, 9]\n",
    "    \n",
    "    return features, labels"
   ]
  },
  {
   "cell_type": "code",
   "execution_count": 159,
   "id": "92371389",
   "metadata": {},
   "outputs": [],
   "source": [
    "def train_df(df):\n",
    "    features, labels = feature_extraction(df)\n",
    "\n",
    "    X_train, X_test, y_train, y_test = train_test_split(features, labels, random_state=104, test_size=.2, shuffle=True)\n",
    "    \n",
    "    y_train = y_train.astype(int)\n",
    "    y_test = y_test.astype(int)\n",
    "    \n",
    "\n",
    "    clf = LogisticRegression()\n",
    "\n",
    "    clf.fit(X_train, y_train)\n",
    "    print('Coefficients: \\n', clf.coef_)\n",
    "\n",
    "    y_pred = clf.predict(X_test)\n",
    "    y_score = clf.predict_proba(X_test)[:, 1]\n",
    "\n",
    "    return y_pred, y_test, y_score\n",
    " "
   ]
  },
  {
   "cell_type": "code",
   "execution_count": 171,
   "id": "74535abd",
   "metadata": {},
   "outputs": [],
   "source": [
    "def train_for_logit_df(df, df_type = 'sus'):\n",
    "    features, labels = feature_extraction(df)\n",
    "    \n",
    "\n",
    "    X_train, X_test, y_train, y_test = train_test_split(features, labels, random_state=104, test_size=.2, shuffle=True)\n",
    "    \n",
    "    X_test = X_test.astype(np.float64)\n",
    "    X_train = X_train.astype(np.float64)\n",
    "    y_train = y_train.astype(int)\n",
    "    y_test = y_test.astype(int)\n",
    "    \n",
    "    column_name = [\"comment_karma\", \"submission_karma\", \"karma_ratio\", \"avg_comment_similarity\", \"avg_toxicity\", \"avg_reply_speed\",\"avg_comment_time_interval\", \"heuristic\"]\n",
    "    \n",
    "\n",
    "    logit_model=sm.Logit(y_train, X_train)\n",
    "    result=logit_model.fit()\n",
    "    \n",
    "    \n",
    "    \n",
    "    print(result.summary(xname=column_name))\n",
    "    \n",
    "    probabilities  = result.predict(X_test)\n",
    "    y_pred = (probabilities >= 0.5).astype(int)\n",
    "    \n",
    "    with open(f'summary_{df_type}.txt', 'w') as fh:\n",
    "        fh.write(result.summary(xname=column_name).as_text())\n",
    "    \n",
    "    return y_pred, y_test, probabilities, result\n",
    " "
   ]
  },
  {
   "cell_type": "code",
   "execution_count": 161,
   "id": "1546272b",
   "metadata": {},
   "outputs": [],
   "source": [
    "def matrix(y_test, y_pred, cmap='Blues', fig_type = 'sus'):\n",
    "    matrix = confusion_matrix(y_test, y_pred)\n",
    "\n",
    "\n",
    "    classes = ['Not Bot', 'Bot']\n",
    "\n",
    "    plt.matshow(matrix, cmap=cmap)\n",
    "    if fig_type == 'sus':\n",
    "        plt.title('Suspected Bot Predictions')\n",
    "    else:\n",
    "        plt.title('Known Bot Predictions')\n",
    "#     plt.colorbar()\n",
    "    plt.clim(0, 450)\n",
    "    plt.ylabel('Ground Truth')\n",
    "    plt.xlabel('Prediction')\n",
    "\n",
    "    plt.xticks(range(len(classes)), classes, rotation=45)\n",
    "    plt.yticks(range(len(classes)), classes)\n",
    "\n",
    "    for i in range(len(classes)):\n",
    "        for j in range(len(classes)):\n",
    "            plt.text(j, i, matrix[i, j], ha='center', va='center')\n",
    "    \n",
    "    plt.savefig(f\"confusion_matrix_{fig_type}.png\", dpi=800, bbox_inches = \"tight\")"
   ]
  },
  {
   "cell_type": "code",
   "execution_count": 172,
   "id": "43787f64",
   "metadata": {
    "scrolled": true
   },
   "outputs": [
    {
     "name": "stdout",
     "output_type": "stream",
     "text": [
      "Optimization terminated successfully.\n",
      "         Current function value: 0.100252\n",
      "         Iterations 15\n",
      "                           Logit Regression Results                           \n",
      "==============================================================================\n",
      "Dep. Variable:                      y   No. Observations:                 1600\n",
      "Model:                          Logit   Df Residuals:                     1592\n",
      "Method:                           MLE   Df Model:                            7\n",
      "Date:                Tue, 11 Apr 2023   Pseudo R-squ.:                  0.8222\n",
      "Time:                        23:30:22   Log-Likelihood:                -160.40\n",
      "converged:                       True   LL-Null:                       -901.93\n",
      "Covariance Type:            nonrobust   LLR p-value:                     0.000\n",
      "=============================================================================================\n",
      "                                coef    std err          z      P>|z|      [0.025      0.975]\n",
      "---------------------------------------------------------------------------------------------\n",
      "comment_karma                -0.0028      0.000     -7.030      0.000      -0.004      -0.002\n",
      "submission_karma             -0.0003      0.000     -1.883      0.060      -0.001    1.04e-05\n",
      "karma_ratio                  -0.0033      0.001     -2.571      0.010      -0.006      -0.001\n",
      "avg_comment_similarity        3.9019      0.541      7.215      0.000       2.842       4.962\n",
      "avg_toxicity                  0.0238      1.219      0.020      0.984      -2.365       2.413\n",
      "avg_reply_speed           -5.012e-06   1.07e-06     -4.667      0.000   -7.12e-06   -2.91e-06\n",
      "avg_comment_time_interval  3.878e-08    2.1e-07      0.185      0.853   -3.72e-07     4.5e-07\n",
      "heuristic                     2.9390      0.492      5.971      0.000       1.974       3.904\n",
      "=============================================================================================\n",
      "\n",
      "Possibly complete quasi-separation: A fraction 0.61 of observations can be\n",
      "perfectly predicted. This might indicate that there is complete\n",
      "quasi-separation. In this case some parameters will not be identified.\n"
     ]
    }
   ],
   "source": [
    "y_pred_sus, y_test_sus, y_score_sus, sus_model = train_for_logit_df(df_sus_model)"
   ]
  },
  {
   "cell_type": "code",
   "execution_count": 173,
   "id": "06a58f6b",
   "metadata": {
    "scrolled": false
   },
   "outputs": [
    {
     "name": "stdout",
     "output_type": "stream",
     "text": [
      "Optimization terminated successfully.\n",
      "         Current function value: 0.325727\n",
      "         Iterations 8\n",
      "                           Logit Regression Results                           \n",
      "==============================================================================\n",
      "Dep. Variable:                      y   No. Observations:                 2090\n",
      "Model:                          Logit   Df Residuals:                     2082\n",
      "Method:                           MLE   Df Model:                            7\n",
      "Date:                Tue, 11 Apr 2023   Pseudo R-squ.:                  0.5228\n",
      "Time:                        23:30:28   Log-Likelihood:                -680.77\n",
      "converged:                       True   LL-Null:                       -1426.5\n",
      "Covariance Type:            nonrobust   LLR p-value:                     0.000\n",
      "=============================================================================================\n",
      "                                coef    std err          z      P>|z|      [0.025      0.975]\n",
      "---------------------------------------------------------------------------------------------\n",
      "comment_karma             -1.139e-06   1.68e-06     -0.679      0.497   -4.43e-06    2.15e-06\n",
      "submission_karma           1.553e-05   4.79e-06      3.241      0.001    6.14e-06    2.49e-05\n",
      "karma_ratio                5.041e-05   1.25e-05      4.041      0.000     2.6e-05    7.49e-05\n",
      "avg_comment_similarity       -2.7979      0.246    -11.368      0.000      -3.280      -2.315\n",
      "avg_toxicity                 -4.1368      0.551     -7.511      0.000      -5.216      -3.057\n",
      "avg_reply_speed           -5.722e-07   3.12e-07     -1.834      0.067   -1.18e-06    3.95e-08\n",
      "avg_comment_time_interval  7.026e-07   1.69e-07      4.149      0.000    3.71e-07    1.03e-06\n",
      "heuristic                     6.9182      0.368     18.790      0.000       6.197       7.640\n",
      "=============================================================================================\n"
     ]
    }
   ],
   "source": [
    "y_pred_all, y_test_all, y_score_all, known_model = train_for_logit_df(df_known_model, df_type = 'known')"
   ]
  },
  {
   "cell_type": "code",
   "execution_count": 164,
   "id": "089c8918",
   "metadata": {
    "scrolled": true
   },
   "outputs": [
    {
     "data": {
      "image/png": "[encoded data removed]",
      "text/plain": [
       "<Figure size 288x288 with 1 Axes>"
      ]
     },
     "metadata": {
      "needs_background": "light"
     },
     "output_type": "display_data"
    }
   ],
   "source": [
    "matrix(y_test_sus, y_pred_sus)"
   ]
  },
  {
   "cell_type": "code",
   "execution_count": 165,
   "id": "e9045891",
   "metadata": {},
   "outputs": [
    {
     "data": {
      "image/png": "[encoded data removed]",
      "text/plain": [
       "<Figure size 288x288 with 1 Axes>"
      ]
     },
     "metadata": {
      "needs_background": "light"
     },
     "output_type": "display_data"
    }
   ],
   "source": [
    "matrix(y_test_all, y_pred_all, cmap=\"Oranges\", fig_type = 'known')"
   ]
  },
  {
   "cell_type": "code",
   "execution_count": 170,
   "id": "9c55470c",
   "metadata": {},
   "outputs": [
    {
     "data": {
      "image/png": "[encoded data removed]",
      "text/plain": [
       "<Figure size 648x648 with 1 Axes>"
      ]
     },
     "metadata": {
      "needs_background": "light"
     },
     "output_type": "display_data"
    }
   ],
   "source": [
    "precision_sus, recall_sus, thresholds_sus = precision_recall_curve(y_test_sus, y_score_sus)\n",
    "precision_all, recall_all, thresholds_all = precision_recall_curve(y_test_all, y_score_all)\n",
    "\n",
    "plt.figure(figsize=(9, 9))\n",
    "plt.plot(recall_sus, precision_sus, 'r', label='suspected user (AUC : 0.98)')\n",
    "plt.plot(recall_all, precision_all, 'b', label='known bots (AUC : 0.89)')\n",
    "no_skill = len(y_test_sus[y_test_sus==1]) / len(y_test_sus)\n",
    "plt.plot([0, 1], [no_skill, no_skill], linestyle='--', label='No Skill')\n",
    "leg = plt.legend(prop={'size': 20})\n",
    "plt.xlabel(\"Recall\", fontsize=14)\n",
    "plt.ylabel(\"Precision\", fontsize=14)\n",
    "\n",
    "plt.xlim([0, 1])\n",
    "plt.ylim([0, 1])\n",
    "plt.title(\"Precision-Recall Curve for classifer model at r/conservative\", fontsize=18)\n",
    "\n",
    "plt.savefig(f\"pr_curve.png\", dpi=1200)\n",
    "\n",
    "plt.show()\n"
   ]
  },
  {
   "cell_type": "code",
   "execution_count": 167,
   "id": "07ba82dd",
   "metadata": {},
   "outputs": [
    {
     "data": {
      "text/plain": [
       "0.9801921651591485"
      ]
     },
     "execution_count": 167,
     "metadata": {},
     "output_type": "execute_result"
    }
   ],
   "source": [
    "auc(recall_sus, precision_sus)"
   ]
  },
  {
   "cell_type": "code",
   "execution_count": 168,
   "id": "5a4b4426",
   "metadata": {},
   "outputs": [
    {
     "data": {
      "text/plain": [
       "0.8972806770719856"
      ]
     },
     "execution_count": 168,
     "metadata": {},
     "output_type": "execute_result"
    }
   ],
   "source": [
    "auc(recall_all, precision_all)"
   ]
  },
  {
   "cell_type": "code",
   "execution_count": 13,
   "id": "336925c2",
   "metadata": {},
   "outputs": [],
   "source": [
    "pairs = {'recall_sus': recall_sus, 'precision_sus': precision_sus}\n",
    "\n",
    "precision_sus_df = pd.DataFrame.from_dict(pairs)\n",
    "\n",
    "precision_sus_df.to_csv('precision_sus_df.csv', index = False)"
   ]
  },
  {
   "cell_type": "code",
   "execution_count": null,
   "id": "81b65502",
   "metadata": {},
   "outputs": [],
   "source": []
  }
 ],
 "metadata": {
  "kernelspec": {
   "display_name": "Python 3 (ipykernel)",
   "language": "python",
   "name": "python3"
  },
  "language_info": {
   "codemirror_mode": {
    "name": "ipython",
    "version": 3
   },
   "file_extension": ".py",
   "mimetype": "text/x-python",
   "name": "python",
   "nbconvert_exporter": "python",
   "pygments_lexer": "ipython3",
   "version": "3.9.7"
  }
 },
 "nbformat": 4,
 "nbformat_minor": 5
}
