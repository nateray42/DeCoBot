{
 "cells": [
  {
   "cell_type": "code",
   "execution_count": 8,
   "id": "af932202",
   "metadata": {},
   "outputs": [],
   "source": [
    "import praw\n",
    "import prawcore\n",
    "import pandas as pd\n",
    "import numpy as np \n",
    "import glob\n",
    "import os\n",
    "import re\n",
    "import math\n",
    "import sklearn\n",
    "\n",
    "from collections import Counter\n",
    "from itertools import chain, combinations\n",
    "from more_itertools import pairwise\n",
    "from tqdm import tqdm\n",
    "from datetime import datetime, date\n",
    "\n",
    "import networkx as nx\n",
    "import seaborn\n",
    "import matplotlib.pyplot as plt\n",
    "import en_core_web_sm\n",
    "\n",
    "# import plotly.graph_objs as go\n",
    "# import plotly.tools as tls\n",
    "# import plotly.express as px\n",
    "\n",
    "from spacy import load\n",
    "import warnings\n",
    "warnings.filterwarnings(\"ignore\", message=r\"\\[W008\\]\", category=UserWarning)"
   ]
  },
  {
   "cell_type": "code",
   "execution_count": 4,
   "id": "31f807ec",
   "metadata": {
    "pycharm": {
     "name": "#%%\n"
    }
   },
   "outputs": [
    {
     "name": "stderr",
     "output_type": "stream",
     "text": [
      "C:\\Users\\ray\\anaconda3\\envs\\Pytorch\\lib\\site-packages\\torch\\nn\\modules\\module.py:1402: UserWarning: positional arguments and argument \"destination\" are deprecated. nn.Module.state_dict will not accept them in the future. Refer to https://pytorch.org/docs/master/generated/torch.nn.Module.html#torch.nn.Module.state_dict for details.\n",
      "  warnings.warn(\n"
     ]
    }
   ],
   "source": [
    "from transformers import pipeline\n",
    "sentiment_toxicity = pipeline(\"sentiment-analysis\", model=\"unitary/toxic-bert\")\n",
    "\n",
    "tokenizer_kwargs = {'padding':True,'truncation':True,'max_length':512}"
   ]
  },
  {
   "cell_type": "code",
   "execution_count": 9,
   "id": "325257a3",
   "metadata": {
    "pycharm": {
     "name": "#%%\n"
    }
   },
   "outputs": [],
   "source": [
    "path = 'data'\n",
    "user_dir = 'user_data'\n",
    "reddit = praw.Reddit(\n",
    "    client_id='4bDjCY6y8ncrc3kLrBbpBg',\n",
    "    client_secret='zPHZKfk9S666S9IxR5HtvkZ83ufNxw',\n",
    "    user_agent='webcrawler created for IS596'\n",
    ")\n",
    "nlp = en_core_web_sm.load()"
   ]
  },
  {
   "cell_type": "code",
   "execution_count": 10,
   "id": "d9b24545",
   "metadata": {
    "pycharm": {
     "name": "#%%\n"
    }
   },
   "outputs": [],
   "source": [
    "def normalize(text):\n",
    "    norm_text = []\n",
    "\n",
    "    for token in text:\n",
    "        if not token.is_punct and not token.is_stop and not token.is_space:\n",
    "            norm_text.append(token.lemma_.lower())\n",
    "\n",
    "    norm_text = ' '.join(norm_text)\n",
    "    norm_text = re.sub(r'(?:^| )\\w(?:$| )', ' ', norm_text).strip()  # removes single characters\n",
    "    norm_text = re.sub(r'[^a-zA-Z0-9 ]', '', norm_text)\n",
    "    \n",
    "    return norm_text"
   ]
  },
  {
   "cell_type": "code",
   "execution_count": 11,
   "id": "3f6c566b",
   "metadata": {
    "pycharm": {
     "name": "#%%\n"
    }
   },
   "outputs": [],
   "source": [
    "def get_user_status(path):\n",
    "    try:\n",
    "        user.is_suspended\n",
    "        print('sus')\n",
    "        user_status = 'suspended'\n",
    "    except AttributeError:\n",
    "        user_status = 'active'\n",
    "    except:\n",
    "        user_status = 'deleted'\n",
    "    return user_status"
   ]
  },
  {
   "cell_type": "markdown",
   "id": "2402a3b8",
   "metadata": {
    "pycharm": {
     "name": "#%% md\n"
    }
   },
   "source": [
    "### For known bots"
   ]
  },
  {
   "cell_type": "code",
   "execution_count": 12,
   "id": "0a11138c",
   "metadata": {
    "pycharm": {
     "name": "#%%\n"
    }
   },
   "outputs": [
    {
     "name": "stdout",
     "output_type": "stream",
     "text": [
      "0         KickOpenTheDoorBot\n",
      "1                 Canna_Tips\n",
      "2                MrTechnodad\n",
      "3                    BigJets\n",
      "4                    properu\n",
      "                ...         \n",
      "2495                 Korpels\n",
      "2496    LEAPYEAR_FOR_SCIENCE\n",
      "2497              LadyMoirai\n",
      "2498    Late-Requirement-653\n",
      "2499               Lauris024\n",
      "Name: user_name, Length: 2500, dtype: object\n"
     ]
    }
   ],
   "source": [
    "# infile_name = f'{path}/bot_list.csv'\n",
    "# infile = open(infile_name, 'r')\n",
    "# file_df = pd.read_csv(infile)\n",
    "# user_names = file_df.user_name\n",
    "# print(user_names)"
   ]
  },
  {
   "cell_type": "markdown",
   "id": "6bebdf3b",
   "metadata": {
    "pycharm": {
     "name": "#%% md\n"
    }
   },
   "source": [
    "### For suspected bots"
   ]
  },
  {
   "cell_type": "code",
   "execution_count": 13,
   "id": "e8088499",
   "metadata": {
    "pycharm": {
     "name": "#%%\n"
    }
   },
   "outputs": [
    {
     "name": "stdout",
     "output_type": "stream",
     "text": [
      "['Humzsdmj', 'Breawsfdg', 'Outsidryzujhx', 'Fantastic-Camp-9597', 'Newbornsale480', 'WeepyBingo', 'NervouslyStick', 'blogdesmartnx', 'CalligrapherSimple50', 'Shantawtaylor', 'Daddidounet', 'Appropriatbhfd', 'advisoryArctiid943', 'BriefOrdera', 'Strongjoachim', 'Federicebl', 'Born_Ad9041', 'Anteatxcv', 'veryBeat', 'Negotiwqdcfv', 'Dry_Association1880', 'GentlyPleafsed', 'Spiritual-Solid-5119', 'Activesxgv', 'gonzdarr', 'Daperasf', 'ferotgeio', 'Visiblecgb', 'zpayment', 'Weak_Past_4575', 'Rare_Bee649', 'Compwfxfg', 'Noelicoszv', 'Ok-Lock-3079', 'Ambitiazxc', 'Independencfg', 'OkTry5944', 'Positivdfsgh', 'PieceKitchen9791', 'Animatotgjug', 'Basiqwfdfd', 'Alarmeezuyxu', 'Cablerugckjk', 'WildWorth8147', 'Strange-Debt3043', 'actuallyAnswer599', 'Necessary-Wonder3842', 'Loud_Bid7147', 'Aggravating-Most2548', 'Gloomyiolinist', 'Previoysitug', 'Emptysdadzfgh', 'Catchwsfg', 'Alarminsdfggf', 'ShaggilySeek', 'Superqwsfg', 'Hapucotadd', 'Completrftyaag', 'Workinfhykxt', 'Any-Gap-2903', 'Personasdfgh', 'yeshuagirlhl', 'cansembs', 'Constant_Warnin', 'Equivalentdfgd', 'AndrusPat279', 'Usefusfggh', 'Workiwdgjh', 'RealisticKoa', 'hotstuf21mq', 'Apprehensive_Hunt305', 'EducationalSmile9549', 'Responsible_Plan_531', 'Interedfjh', 'Extesdfgfg', 'Artichokxvg', 'Propesxgh', 'Techndcghjh', 'LinearCheetah', 'tessawiley', 'CriminalTossing', 'Ill_Finger8520', 'Strobhgyt', 'Square_Tailor_4497', 'Parkasfgvfd', 'MoreTraffica', 'Euphorsdgvv', 'Prestigioxb', 'Ambadhghj', 'evilcircuit', 'Technicdfgg', 'Varioensiofgy', 'Beedsgroundf', 'Easy_Bit3984', 'Euphodfshg', 'Wasteadsghjh', 'Cockneyusury302', 'Objective-Extent-397', 'Zestyclofgjhj', 'Craftywqdfghj', 'AnonEmit21', 'Numweythuj', 'LuridlySavage', 'm9898982014', 'bitoviev', 'wirehn', 'historicFaro', 'illativeCarrot892', 'Kooky-Swimming2538', 'Equivalefvd', 'Bluewsdfgd', 'abusiveCharles', 'Backgzscgh', 'Constansdfgh', 'ComprehensiveCity322', 'Worth-Magician-3114', 'Subjectdahg', 'clearfilaria488', 'Frequessdfgf', 'Tasat_dunia_1987', 'JealousGibbens1971', 'Unussdfghhg', 'Profesvgh', 'Ornerewgh', 'Sophiavma70636', 'Beautisdfghk', 'sleeklyUtter', 'Necesdfghjh', 'LavishComer', 'LavishnessPlayful217', 'CharliDemiDanna', 'Cockrodfbg', 'tidystoppage', 'Agravatindsg', 'lineallybethink', 'ConcernOk4698', 'NonstopNarrator01', 'PeonyDissanayake2638', 'ilovekerma', 'hugsnookums_', 'Top_Ambassador_9857', 'CornyWidth', 'ChartierJeanne887', 'HugePrice9076', 'Moderateglove40', 'amnioticSoftness70', 'Emotional-Bass7387', 'LavishAllergy', 'Stickyturgor', 'Mycoloxvc', 'ignorantByssus78', 'Particular-Monk-4071', 'algoidHatch', 'uphillstifle', 'RevenueResponsible73', 'Ladarrengarner1978', '416cu1t5', 'Then_Tomatillo_9574', 'blufflySlack', 'Pure_Satisfaction0', 'WildMain91', 'baardaapgy', 'dgpcoin26', 'EconomicPunjab11', 'relievedarchery', 'tecnomadaspq', 'armlessstyrene257', 'Bathali', 'Banandr', 'Arigery', 'Anicela', 'modernbrainstorming4', 'Dear-Vacation4106', 'Electrical-March-482', 'SwiftlyNeedy', 'chargedschedule327', 'demandingultimatum', 'FumblingIteration', 'CloselyBright', 'cordellanimelover', 'SeethingMonopoly', 'nhacadasoa', 'ElkEnvironmental2610', 'Accomplished_Stay454', 'Popular-Slide-9289', 'AcaryanandanaDD', 'Hot-Condition136', 'Inevitable_King_10', 'Denny_Crane_5823', 'UnluckyHalf8209', 'Astraysnore732', 'Bodybuilde541', 'Muchsauce48', 'BarbarousEater', 'kitkit123', 'cryptopds', 'UntrulyConvey60', 'SleeklyRecharge270', 'Waitingqi397', 'hereuponpierce39', 'EthanJohnsones', 'KookyAssignm', 'PartyHedgeho', 'Noiseiam', 'possiblyseparate731', 'KBHSkbhs1728', 'sdfewfwsd', 'Gord0nG3kko', 'mobik21', 'Impishlypiece92', 'NextOverturn98', 'gjayfvgfgffgggggc', 'AcaryatanayaD', 'Likelyvigil393', 'boyteenphonui', 'nataliya0123', 'DarklyHeave49', 'BlondRefund918', 'LockInitial7071', 'Longjumping_Raise413', 'casanova056', 'bluehorror851', 'SavoryWorkman', 'Grouchy_Plant_8374', 'Mediumnfluenc', 'ChampionMindles', 'CharlesettaWhite', 'impracticalpublicity', 'UntrueInsurer77', 'Rich_Examination_740', 'McClellandTina49', 'rabidlyrubric66', 'Stygianbuntal', 'hereinFace64', 'Overgive817', 'foyete', 'didiem321', 'torgox97', 'IllustratorFair1541', 'OkSeaworthiness4546', 'LeagueJust957', 'Unique_Specfi', 'TechnologySuitab', 'Emergencytyik', 'AdAlternativji', 'CrabAccomplish', 'Head_Backgroun', 'Honeydewgh', 'Alternativeuard', 'PlasticSituatio', 'PollutionMediocre324', 'Wrongiccolo', 'Mucheference', 'Wise_Negotiation5366', 'RectalBarstow', 'Local_Initiativ', 'Aromatic_Damag', 'BabyEnvironment', 'New_Statisticikiol', 'Priorommittee8', 'SuddenCharact', 'RelevantBreadfruit17', 'StandardDisast', 'AdLongjumpino', 'CautiousSpra', 'Formal_Autho', 'Toneconomyl', 'ExtremeDiamo', 'Aliveepartment', 'SurprisinglyMealy', 'PerfectPhotogra', 'BothBackgrou', 'Feeling_Air_1379', 'PuzzleheadedGuid', 'FalseConnecti', 'Externaligner7', 'Jumpy_Performa', 'SufficientAnywher', 'Negative_Smel', 'BeautifulJudgme', 'CompetitiveWnte', 'ComprehensiveIr', 'Miss_Nastasha001', 'PracticalMeringu', 'MildContents', 'Dapperlassroom96', 'TanyaGSmith', 'goodMarquis27', 'OtherFirefightera', 'NineSuspensi', 'Strong_Pangoli', 'SeaRecognit', 'Amazing_Spinac', 'dumblyClose91', 'Either_Beautifu', 'Visual_Barnac', 'drghthytryttut6utue', 'Externadghkj', 'Elegant-Ear1662', 'Icy-Application9817', 'Corectdshgj', 'benreynolds1', 'EasilyMagical', 'alaiatgf', 'ezenziwafs', 'Historicaley4', 'RelationshipKi', 'ConsistentMixture516', 'WhatItMeansToBeG', 'ResponsiblePeach7792', 'HomespunSprue42', 'Patoisyw', 'vakebo7964', 'demona6', '1fatinhavdfdfdf', 'Other-Hospital-7147', 'MaterialisticPoultry', 'Anciwefgh', 'Introddfjh', 'New_Explanation_9223', 'Prestigious_Hall3601', 'Downtown_Lecture_764', 'Debate601', 'Depenxcv', 'mramser', 'Ordinaryriofgki', 'Inflatiofdkjl', 'Comforsgf', 'Noap3271', 'Ill_Shallot_2995', 'Cultural-Balance-579', 'Acceptable-Lab-5076', 'Straight_Ad_7855', 'Togetherdream', 'DependentBuya', 'OkMixs', 'Heavilyphrase', 'RevolutionaryCup5990', 'WorkingOrdera', 'BubblyAda', 'EveryInformations', 'ParkingBloods', 'dchapkine', 'holisticfutility59', 'dingdongBunker', 'HelpfullyFaithful', 'bivalentparadox', 'SuchFigures', 'Professwfdgh', 'eliannaesparza', 'Majesticmpire', 'Artffectionate', 'calmlycageybeginner', 'Professioghkid', 'StatusQuantit', '2animis200fgff', 'Commerciaftgkh', 'Suddear884', 'Ambitiouve5', 'Agreeabtgkjf', 'guiltlessunman', 'Successfytoftg', 'OkWork1384', 'Adept_Ad5516', 'NecessaryTree5913', 'zlotowiczmt', 'Upstairgfhkd', 'Employgjkl', 'Streetfrtohjp', 'Academidition', 'NicholsonTop', 'General-Speech7958', 'Resposadgf', 'PuzzleheadedThing257', 'CertainManagement13', 'Bafresenthg', 'QualityGrouchyuitr', 'Flufyxteredg', 'Adventuro97', 'Glittering-Win-3280', 'SimpleAd8166', 'Openiedghk', 'Ampossiblegj', 'LiveCommentator', 'FuturisticJuror', 'Hungry-Dust-6084', 'Bubbly_Accountant347', 'DrewSuttonh', 'Agreeablegffg', 'Training_Hand_3313', 'PreviousOrange22', 'Possible_Ant4', 'kysputnik', 'Brief-Necessary-252', 'ComplaintIcy2805', 'NovelFluke', 'whitetechnology', 'FondlyLea', 'Acsuesdfg', 'Afectionaasdf', 'Overall_Ordinary_245', 'No-Caramel1618', 'GlitteringAbilitya', 'According_Gur_2310', 'Sauspect558', 'StrikingCard7170', 'Formal-Light-7415', 'New_Slide_6703', 'Mobiweqhg', 'Temqwefdgf', 'Restaegfhg', 'Zealoewqgtg', 'Extremsdghh', 'Hotudgment49', 'Mountadg', 'Corrent68', 'Automaweqdf', 'Intewsfg', 'Extenedtgkj', 'Delieqwfgfg', 'Afteras821', 'Recent_Growth6932', 'Leveweqxfgvbh', 'Technicact76', 'Affectidyhgjh', 'McKownJames', 'Subjecsxfggb', 'Previousip6566', 'periodicfluke259', 'Zealousu40', 'jc55394', 'glowprod', 'Elevatodgfhg', 'Equivtfgkj', 'Desweqggf', 'Trainingerfg', 'zabitimaop', 'Packdfghkj', 'Imaginary_Race_9770', 'Mobilesdfk', 'Brightweqtrh', 'Profeedfggh', 'Tast714', 'Comprewdfgjh', 'Realisdfgh', 'Neither_Upstairs_707', 'Savings_Land_7008', 'Sensitweghh', 'idolizeddiver_29', 'InformalParticular59', 'Botswankasz', 'Waste_Mud_6067', 'Equivalsadghj', 'Middlezdgh', 'Capableoun097', 'Meaningerfg', 'Stunfjhjk', 'Zestyclfnj', 'Admirable_Benefit_32', 'PsychologySea5188', 'Zealouedgfh', 'Timelypou', 'Dramatic-Chart-1158', 'SubstantialRain943', 'Brief-Breakfast4161', 'Top_Wash5765', 'Affectionate_Loan164', 'Mystedbhb', 'Zealoedghjh', 'SedatelyDespicable', 'nt7p8awmf4', 'deepsiren275', 'Apropriatgtgh', 'Informfvb', 'skimpilywithdraw29', 'mhb4818', 'Defianedgf', 'Respoedgf', 'Commercial-Border-82', 'Charmiwetg', 'Fantastic-Impact-368', 'prizerunoff3', 'butrex187', 'Bothersddff', 'Carefgsdhg', 'Albatrossdfg', 'Consisdskj', 'Theorysdfjhk', 'Double_Blacksmith190', 'Biethfgkifruifd', 'Interewedfgg', 'el9zoad0564', 'Aligningvictim', 'davidbrown510', 'Powerful-Table-7003', 'btcdrumer', 'Acrobadsfjh', 'pablo_m_r', 'kunatacl']\n"
     ]
    }
   ],
   "source": [
    "botdefense = reddit.subreddit('botdefense').new(limit=500)\n",
    "user_names = []\n",
    "\n",
    "for submission in botdefense:\n",
    "    user_names.append(submission.title[13:])\n",
    "user_names = user_names[1:]\n",
    "print(user_names[:10])"
   ]
  },
  {
   "cell_type": "code",
   "execution_count": null,
   "id": "ba1d575f",
   "metadata": {
    "pycharm": {
     "name": "#%%\n"
    }
   },
   "outputs": [],
   "source": [
    "rows = []\n",
    "for user_name in tqdm(user_names):\n",
    "    try:\n",
    "        user_dict = {}\n",
    "        user = reddit.redditor(user_name)\n",
    "        user_dict['username'] = user_name\n",
    "        user = reddit.redditor(user_name)\n",
    "\n",
    "        if get_user_status(user) == 'active' and str(user_name) not in 'nan': # checks that user isn't suspended/deleted\n",
    "            if not user.is_mod: #ignore mods\n",
    "\n",
    "                comment_array = []\n",
    "                timestamps = []\n",
    "                reply_timestamps = []\n",
    "                comment_toxicities = []\n",
    "\n",
    "                comment_karma = user.comment_karma\n",
    "                submission_karma = user.link_karma\n",
    "\n",
    "                karma_ratio = round(comment_karma/submission_karma, 4)\n",
    "\n",
    "                try:\n",
    "                    for this_comment in user.comments.new(limit=15):\n",
    "\n",
    "                        parent_comment_id = this_comment.parent_id\n",
    "                        if parent_comment_id.startswith('t3'):\n",
    "                            parent_comment_id = parent_comment_id[3:]\n",
    "                            parent = reddit.submission(parent_comment_id)\n",
    "                        else:\n",
    "                            parent = reddit.comment(parent_comment_id)\n",
    "\n",
    "                        parent_timestamp = datetime.fromtimestamp(parent.created_utc)\n",
    "                        comment_timestamp = datetime.fromtimestamp(this_comment.created_utc)\n",
    "\n",
    "                        comment_array.append(this_comment.body)\n",
    "                        comment_toxicities.append(sentiment_toxicity(this_comment.body, **tokenizer_kwargs)[0]['score'])\n",
    "\n",
    "                        timestamps.append(comment_timestamp)\n",
    "                        reply_timestamps.append((parent_timestamp, comment_timestamp))\n",
    "\n",
    "                except Exception as e:\n",
    "                    print(e)\n",
    "                    continue\n",
    "\n",
    "                for i in range(len(comment_array)):\n",
    "#                         comment_array[i] = normalize(nlp((comment_array[i]))) # normalizes comment but leaves as string\n",
    "                    comment_array[i] = nlp(normalize(nlp((comment_array[i])))) # this normalizes comment and wraps in nlp\n",
    "\n",
    "                comment_similarities = []\n",
    "                time_intervals = []\n",
    "                response_intervals = []\n",
    "\n",
    "                for sent_1, sent_2 in combinations(comment_array, 2):\n",
    "\n",
    "#                         comment_similarities.append(calculate_cosine_sim(sent_1, sent_2)) checks cosine simularity of each comment against the next \n",
    "                    comment_similarities.append(sent_1.similarity(sent_2)) # nlp similiarity\n",
    "\n",
    "                successive_times = list(pairwise(timestamps))\n",
    "                for pair in successive_times: # calculates the intervals between user's comments\n",
    "                    time_intervals.append(abs(pair[0] - pair[1]))\n",
    "\n",
    "                for pair in reply_timestamps:\n",
    "                    response_intervals.append(abs(pair[1] - pair[0]))# calculates how quickly a comment replied to its parent\n",
    "\n",
    "                try:\n",
    "                    time_data = pd.Series(time_intervals)\n",
    "                    avg_time_diff = (time_data.sum()/len(time_data)).round('1s')\n",
    "                except Exception as e:\n",
    "                    print(e)\n",
    "                    continue\n",
    "\n",
    "                try:\n",
    "                    response_data = pd.Series(response_intervals)\n",
    "                    avg_reply_speed = (response_data.sum()/len(response_data)).round('1s')\n",
    "                except Exception as e:\n",
    "                    print(e)\n",
    "                    continue\n",
    "\n",
    "                try:\n",
    "                    avg_comment_similarity = sum(comment_similarities)/len(comment_similarities)\n",
    "                    avg_toxicity = sum(comment_toxicities)/len(comment_toxicities)\n",
    "                except ZeroDivisionError:\n",
    "                    continue\n",
    "                except Exception as e:\n",
    "                    print(e)\n",
    "                    continue\n",
    "                try:\n",
    "                    user_dict['comment_karma'] = comment_karma\n",
    "                    user_dict['submission_karma'] = submission_karma\n",
    "                    user_dict['karma_ratio'] = karma_ratio\n",
    "                    user_dict['avg_comment_similarity'] = avg_comment_similarity # formating dict\n",
    "                    user_dict['avg_toxicity'] = avg_toxicity\n",
    "                    user_dict['avg_reply_speed'] = avg_reply_speed\n",
    "                    user_dict['avg_comment_time_interval'] = avg_time_diff\n",
    "#                         user_dict['comment_intervals'] = time_intervals\n",
    "\n",
    "                    rows.append(user_dict) \n",
    "                except Exeception as e:\n",
    "                    print(e)\n",
    "                    continue\n",
    "\n",
    "    except Exception as e:\n",
    "        print(e)\n",
    "        continue\n",
    "\n",
    "users_df = pd.DataFrame.from_dict(rows, orient='columns')\n",
    "users_df.to_csv(f'{path}/{user_dir}/raw_known_bots.csv')"
   ]
  },
  {
   "cell_type": "markdown",
   "id": "01692d45",
   "metadata": {
    "pycharm": {
     "name": "#%% md\n"
    }
   },
   "source": [
    "### Streaming Feature Extraction"
   ]
  },
  {
   "cell_type": "code",
   "execution_count": null,
   "id": "0d57a29d",
   "metadata": {
    "pycharm": {
     "name": "#%%\n"
    }
   },
   "outputs": [],
   "source": [
    "rows = []\n",
    "\n",
    "for submission in botdefense.stream.submissions():\n",
    "    try:\n",
    "        user_name = submission.title[13:]\n",
    "\n",
    "        user_dict = {}\n",
    "        user_dict['username'] = user_name\n",
    "        user = reddit.redditor(user_name)\n",
    "\n",
    "        comment_karma = user.comment_karma\n",
    "        submission_karma = user.link_karma\n",
    "\n",
    "        karma_ratio = round(comment_karma/submission_karma, 4)\n",
    "\n",
    "        comment_array = []\n",
    "        timestamps = []\n",
    "        reply_timestamps = []\n",
    "        comment_toxicities = []\n",
    "\n",
    "\n",
    "        for this_comment in user.comments.new(limit=15):\n",
    "\n",
    "            parent_comment_id = this_comment.parent_id\n",
    "            if parent_comment_id.startswith('t3'):\n",
    "                parent_comment_id = parent_comment_id[3:]\n",
    "                parent = reddit.submission(parent_comment_id)\n",
    "            else:\n",
    "                parent = reddit.comment(parent_comment_id)\n",
    "\n",
    "            parent_timestamp = datetime.fromtimestamp(parent.created_utc)\n",
    "            comment_timestamp = datetime.fromtimestamp(this_comment.created_utc)\n",
    "\n",
    "            comment_array.append(this_comment.body)\n",
    "            comment_toxicities.append(sentiment_toxicity(this_comment.body, **tokenizer_kwargs)[0]['score'])\n",
    "\n",
    "            timestamps.append(comment_timestamp)\n",
    "            reply_timestamps.append((parent_timestamp, comment_timestamp))\n",
    "\n",
    "        for i in range(len(comment_array)):\n",
    "            comment_array[i] = nlp(normalize(nlp((comment_array[i]))))\n",
    "\n",
    "        comment_similarities = []\n",
    "        time_intervals = []\n",
    "        response_intervals = []\n",
    "\n",
    "        for sent_1, sent_2 in combinations(comment_array, 2):\n",
    "            comment_similarities.append(sent_1.similarity(sent_2))\n",
    "\n",
    "        successive_times = list(pairwise(timestamps))\n",
    "        for pair in successive_times: # calculates the intervals between user's comments\n",
    "            time_intervals.append(abs(pair[0] - pair[1]))\n",
    "        for pair in reply_timestamps:\n",
    "            response_intervals.append(abs(pair[1] - pair[0]))\n",
    "\n",
    "        time_data = pd.Series(time_intervals)\n",
    "        avg_time_diff = (time_data.sum()/len(time_data)).round('1s')\n",
    "\n",
    "        response_data = pd.Series(response_intervals)\n",
    "        avg_reply_speed = (response_data.sum()/len(response_data)).round('1s')\n",
    "\n",
    "        avg_comment_similarity = sum(comment_similarities)/len(comment_similarities)\n",
    "        avg_toxicity = sum(comment_toxicities)/len(comment_toxicities)\n",
    "\n",
    "        user_dict['comment_karma'] = comment_karma\n",
    "        user_dict['submission_karma'] = submission_karma\n",
    "        user_dict['karma_ratio'] = karma_ratio\n",
    "        user_dict['avg_comment_similarity'] = avg_comment_similarity # formating dict\n",
    "        user_dict['avg_toxicity'] = avg_toxicity\n",
    "        user_dict['avg_reply_speed'] = avg_reply_speed\n",
    "        user_dict['avg_comment_time_interval'] = avg_time_diff\n",
    "\n",
    "        print(user_dict)\n",
    "        rows.append(user_dict) \n",
    "\n",
    "    except Exception as e:\n",
    "        print(e)\n",
    "\n",
    "users_df = pd.DataFrame.from_dict(rows, orient='columns')\n",
    "users_df.to_csv(f'{path}/{user_dir}/suspected_bots_2.csv')"
   ]
  },
  {
   "cell_type": "markdown",
   "id": "d169ad5d",
   "metadata": {},
   "source": [
    "### For suspected bots"
   ]
  },
  {
   "cell_type": "code",
   "execution_count": 15,
   "id": "284cd427",
   "metadata": {},
   "outputs": [
    {
     "name": "stdout",
     "output_type": "stream",
     "text": [
      "['Apartexalt698', 'AgePsycholog', 'South_Tensio', 'Independentfdy', 'SenorBeef', 'Aggressive_Finger579', 'Downtowarkb', 'xansochi', 'Backgroundbv', 'MixedRapidity', 'mynkamerve', 'legoholamoo', 'cuspiafc', 'kakashi4ok', 'thierryleblanyi', 'Fhaingsk', 'Barbecx', 'Lakapparygd', 'UpstateAlight72', 'chitatsjy', 'conkeysoundhq', 'FickleEntrepreneu', 'Automatic_Suc', 'Unhapolasvgf', 'kubafundipd', 'fondsbrilhz', 'IvaSwinton', 'CryptoColon', 'Mysterious_Fer', 'HistoricalAm', 'No-Education-4082', 'ElliotDictator', 'Individual_Drink162', 'illitsPoordrr', 'tominogrt', 'usadilozz', 'bakezillapk', 'vossejarhe', 'tropotbw', 'mioasislq', 'dapaulasafh', 'jarbythedoorkh', 'acicarronb', 'vatinukasgh', 'cosmicdancersjk', 'e2r3a3kukys', '1glasib', 'w8229549', 'outrightfoal480', 'Horror_Constan', 'Typicalecovergd', 'CommercialClient51', 'moidwayinfonixc', 'pc29lo', 'ntyriminger', 'initialshuffler', 'Suitable-Method3245', 'NulkStomomocg', 'Subartaspz', 'Acceptable_Roun', 'EmbarrassedCoun', 'Andresallison99', 'Zealousideal_Gas3218', 'Glass_Injury_6374', 'SurroundRealistic354', 'NetGroundbreakin', 'thenewjordy', 'Painarou53', 'UnitedConferenc', 'WinterDefian', 'StatusCauliflo', 'onlypersuade963', 'DegreeElectric', 'Rickeygraves', 'yaoyanke', 'JitteryFriendliness', 'racialacreage', 'Jumpy_Conflict', 'Fabulous-Row-7186', 'Combinatioughg', 'Spirituaxampl', 'NeitherLobste', 'Extension_Eas', 'OwnCantaloup', 'Speciranslatohj', 'StraightFoundatio', 'ArmadilloCraft', 'AnyNefariousness9050', 'NorthMasterpie', 'Strict_Air2789', 'StarryJenny', 'Visual-Cake7783', 'Abject-Benefit-1784', 'Low-Smoke-5995', 'CucumberGlobal3955', 'Unhappy_Conclusio', 'CorrectCategor', 'Strict_Pangoli', 'Dismal_Confusio', 'ObligationDea', 'NegativeUse365', 'ProfessionalWaltz818', 'Western_Decisio', 'waddyaknow8873', 'Aromatic_Recording25', 'EduardoShelton', 'Flat_Gazelle_9684', 'LoadComprehensiv', 'Western_Beautifu', 'Vegetable_Maximu', 'Top_Bumblebe', 'Junior_Masterpie', 'One_Opportunit', 'Initial_Signatur', 'SpotPuzzleheade', 'Rusniokqk', 'IntelligentAppea', 'Awkward_Anywhere_386', 'RelationMedi', 'Economy_Members', 'SmartWishbone8388', 'AdventurousAir7321', 'stevenoner', 'CommercialDark4312', 'CutBoethius', 'DeliciousSaving', 'Pitchedcybele539', 'mexicosk', 'Nookeepergam', 'EconomicsLumpy9085', 'ImpossibleResort833', 'Outrageooffeeh', 'Dressdodger', 'Sewedvega985', 'Oneiros74', 'SubstantialFrame3364', 'Frostyndividuafg', 'jachary1', 'Kuzn67', 'dimlypamper', 'Successful-Win-7772', 'Emplolternatif', 'ExpressResource2463', 'Particularcghjds', 'OkIndepend', 'GeologistDesigner217', 'Somescription', 'NoManbhgvf', 'Washedvoyage65', 'Abnormalharrison87', 'poli1232233', 'tristang4', 'Responsiblakf', 'strictlygird93', 'AvailableWest1052', 'FastVeterinarian591', 'freemarketingbrowser', 'inclinedmanpad78', 'Basilternative', 'Psychologicoofgju', 'Explanationfhcx', 'SubjectDiscipline10', 'Anyngineeringfd', 'Ablnvestigator', 'Individualfsxd', 'Flasbilgi', 'Antiqurangehkg', 'Zealousideetgui', 'TopAdministrative981', 'Easy_Specialist_1879', 'ElegantJar', 'Menningerfelixv6h', 'unsoundAudile', 'goldmanic', 'KentonSalinas', 'HeavyLingonberry644', 'YahyaKemalTR', 'TightlyBatty', 'ActuallyHarebrained', 'PatreciaSingsen4547', 'RideReasonable3737', 'luvende', 'Josselynok', 'Grundyug', 'Spoorlelejf', 'RichardCooka', 'Liblarlr', 'Marinistvh', 'MinimumSituation374', 'ExpressCup5629', 'CarefulLanguage1840', 'PlasticSeveral2784', 'DiamondSevere2781', 'TrainingSignal2716', 'Visibleixl', 'Upfieldpaperboy', 'cleverlyMarch', 'wrathfulvulnerable', 'SpiritualPhone3015', 'NeitherIngenuity912', 'IntelligentLuck817', 'OpenStatistician514', 'MoreGiraffe7619', 'GladlyInternal', 'FickleLetterhead4433', 'ThinkTonight7245', 'Advanceddfre', 'OneInternational584', 'FavoriteLodging', 'SuspiciousArmy3428', 'PossibleType7772', 'AdditionalGap-3003', 'AromaticForce3395', 'Lompje', 'ScarletCroft', 'Additional-Hunt-432', 'Brilliant-Square2595', 'Chance_Reactio', 'Flimmunk', 'Sad-Midnight4991', 'Seharacterhyi', 'Boring_Platyp', 'LegitimateMonitor654', 'AngeliaStern', 'PointGigs', 'ViolentlyFluttering', 'Just_Calligraph', 'DryEye8241', 'BusEvening1885', 'LividCulprit', 'GiuseppeFedor', 'KaputVictory', 'WeeklyApologise', 'EntrepreneurU', 'Zealousideal_Hat6306', 'LeadingFox270', 'sitixa1763', 'DifficultGazell', 'ProfessionalLife3641', 'Nssumptiogk', 'fortor_1', 'abyichan', 'AdmirableTeaf', 'Resident_Insid', 'Emergencyha', 'Actual-Blueberry6524', 'Helpful_Feature590', 'Dailytwist31', 'Dazzling-Badger-119', 'Sthomas785', 'wiseb7', 'Typical-Catch6014', 'Key_Supermar', 'Harin7565', 'Reanneferreira2518', 'fby051', 'Acrobatislanfjo', 'Dry-Focus3215', 'credibleSeminary697', 'netsp64', 'Choset348', 'veznicamjj', 'usovigjasa', 'straferbj', 'neusaapdd', 'maetheg9p', 'dignaba6k', 'buidasmiddilszx', 'agatitsll', 'aconsiarj2', 'Spaderaiz', 'Reisendedd', 'Kuusamopd', 'Aggland1985', '4n1einfk', 'arditecx', 'axel_queenie', 'xandra_queenie', 'ur5ahnq', 'musicatiopl', 'KiwiGeneral56478', 'Historical_Bunc', 'hualxh468', 'AdditionalBuy2', 'FreeIndicatg', 'Western_Garag', 'Feistylantai', 'EmptyExplana', 'ZestycloseTowe', 'Junior_Researc', 'Beduzmm', 'AffectionateDuf', 'Puzzleheadegr', 'DarkPsychologica', 'Dramatioiu', 'NoRequiremen', 'Neat_Personalit', 'Appropriate_Lun', 'MinuteDispd', 'SuccessulDated', 'Savings_Challeng', 'Measurementb', 'Communitdf', 'Rattenbt43', 'Imaginary-Dish-5695', 'West_Philosop', 'Appropriateeathe', 'Desperatward', 'Previous_Residen', 'Mundane_Comb48', 'touchedVellum92', 'Ermabush', 'Content_Musicia', 'Elegant_Grocery_6493', 'DisastrousCycle4785', 'neriticliquor321', 'xcdsopwenu', 'Whimsy956', 'BadlyBench789', 'Compreh76', 'Smothta67', 'PeterGibson50', '_u1o3vabcd', 'NichollElwin3196', 'Inside_Situatio', 'Alarmed_Damag', 'LifeguardConsta', 'Chemcal88', 'CoraNorman20', 'BitterInterna', 'Select_Preference230', 'Leather_Hom', 'Honest_Deliver', 'DeafRobot', 'Separate-Pin7432', 'Kind_Storm5235', 'LaurenFerguson6', 'ComptonwilcherDeann1', 'Flake_Bresha_4137', 'Frequent-Delivery-39', 'Commoapayagj', 'MaureenWillis', 'Sufficienealdh', 'Competitive_Shock909', 'Most_Activity_497', 'Sufficientvjdhy', 'New_Championship495', 'szyma87', 'Entertaihkitg', 'No_Temperatucx', 'LengthinessParking58', 'Consistearslehkd', 'Odeplacementg', 'Adventurohyd', 'Nccountanfhj', 'Quieomplainfgu', 'Spirited_Ad7705', 'Potentialrowth', 'Specific-Collar6203', 'Jyoliver547', 'Past_Pollution_3600', 'HugeEngineering5096', 'daddega', 'Top_Zookeepergame_99', 'New_Answer_4895', 'maddoggy2214', 'Knowleentalf', 'Oktmospherff', 'Aggravatinreeg', 'Grocerastergh', 'Understandingug', 'JakeAndRichpz', 'Beginniuckghj', 'Constantustcvhj', 'Soarent', 'RoosterIndividual836', 'gunnerpet', 'Previouattlgkoi', 'Cardiologised', 'Outrageous_Note6576', 'Affectionattafgj', 'Icyrmadillofhj', 'MonicaMyersH', 'Relevanegistefg', 'rockcoca', 'No_Albatross8933', 'Access9317', 'Fresttentiogjk', 'Necessary_Fun1627', 'Carelesurprisylo', 'Straight75', 'Vegetablrawebh', 'Educationgkjid', 'Annuapion', 'Reasonableugk', 'Cauzzleheaded', 'EmotionalChange4884', 'Perfecepairfh', 'MysteriousDrink787', 'InternationalLie433', 'Electricalvgf', 'Thiournalistg', 'Considerationnjh', 'InfamousAd5612', 'Wonderfucheme', 'Practicalvgfs', 'Kexaminationvg', 'Apprehensivc', 'Stilmergencnj', 'PlanesTravels', 'Weary_Section_9003', 'PeaComprehensive7871', 'OwnElection9514', 'DangerousCrea', 'Relativxtremgk', 'BirthdaySad9966', 'Finawfulnesfju', 'Keangelofhjf', 'DizzilyMothball', 'Duanagementds', 'Soutddendugkl', 'OrganicCryptos', 'DullAntapex', 'jeansmith1', 'kayla-wood', 'BellaCollin1', 'Ok-Independence4925', 'Adventurous_Fix_6402', 'GeoffStephen0908', 'GloomyRegister2683', 'et8zw8fu', 'maximka2k', 'ThijmenP', 'OfferPlastic8200', 'Consequence930', 'RepeatAltruistic5549', 'Drajiii', 'Aromatic-Noise-1345', 'GeneGlittering4021', 'AdmirableCheek2338', 'thenceclog56', 'WorldlinessExotic267', 'Frequent-Moose-6697', 'edgeblader', 'Stragglydemerit47', 'limplyBuckle', 'JustEntertainment488', 'Appropriate_Watch379', 'Pale_Photograph_2722', 'NeatImagination8339', 'Ok-Money9427', 'Brief_Bench_5277', 'ShoulderNumerous4917', 'NattilyAdmit', 'Leochare67', 'MelodicTadpole7373', 'FarmPuzzleheaded8350', 'AshamaSpeed', 'DoughnutOk4857', 'UnableOrdinary3070', 'Quirky_Wasabi2980', 'Straight-Sock9594', 'AdAcrobatic9771', 'EstablishmentSalt790', 'Effective-Respond-64', 'PresentEquivalent459', 'Awkward_Pen_9702', 'NealBoone30', 'Consistent_Union7449', 'Itchy-Debate-8958', 'Accountant-1606', 'Spiritual_Recipe8112', 'Weird_Upstairs_7429', 'FunRepresentative637', 'Tricky_Ad8052', 'ImpressiveLeg975', 'PersonalSpeaker1799', 'Lucky-Membership3329', 'Significant-Issue753', 'Natural-House-7431', 'Agreeable_Syrup_48', 'Alarmed-Ad6513', 'Jealous-Nature4409', 'Longjumping_Pay_4106', 'SafePreparation1938', 'ProfessionalTale3566', 'Born_Anything_1870', 'Hefty_League_3425', 'HoraceFleming', 'SubstantialCandy6901', 'FruitBackground2418', 'Ok-Telephone-1299', 'Jealous_Bad_7444', 'BubblyObject4348', 'EstablishmentLong942', 'Impressive_Stock_398', 'Instruction1638', 'LevelBeautiful7491', 'Intelligent-File-634']\n"
     ]
    }
   ],
   "source": [
    "# botdefense = reddit.subreddit('botdefense').new(limit=500)\n",
    "# user_names = []\n",
    "\n",
    "# for submission in botdefense:\n",
    "#     user_names.append(submission.title[13:])\n",
    "# user_names = user_names[1:]\n",
    "# print(user_names)"
   ]
  },
  {
   "cell_type": "code",
   "execution_count": 12,
   "id": "a22aa011",
   "metadata": {
    "pycharm": {
     "name": "#%%\n"
    }
   },
   "outputs": [
    {
     "name": "stderr",
     "output_type": "stream",
     "text": [
      "  0%|                                                                               | 3/2500 [00:06<1:33:11,  2.24s/it]C:\\Users\\mhous\\AppData\\Local\\Temp\\ipykernel_6568\\4106614434.py:66: FutureWarning:\n",
      "\n",
      "The default dtype for empty Series will be 'object' instead of 'float64' in a future version. Specify a dtype explicitly to silence this warning.\n",
      "\n",
      "C:\\Users\\mhous\\AppData\\Local\\Temp\\ipykernel_6568\\4106614434.py:67: RuntimeWarning:\n",
      "\n",
      "invalid value encountered in double_scalars\n",
      "\n",
      "  0%|▏                                                                              | 4/2500 [00:07<1:20:33,  1.94s/it]"
     ]
    },
    {
     "name": "stdout",
     "output_type": "stream",
     "text": [
      "'str' object cannot be interpreted as an integer\n"
     ]
    },
    {
     "name": "stderr",
     "output_type": "stream",
     "text": [
      "  1%|▉                                                                               | 31/2500 [01:22<58:27,  1.42s/it]"
     ]
    },
    {
     "name": "stdout",
     "output_type": "stream",
     "text": [
      "sus\n"
     ]
    },
    {
     "name": "stderr",
     "output_type": "stream",
     "text": [
      "  2%|█▎                                                                           | 43/2500 [04:52<18:50:28, 27.61s/it]"
     ]
    },
    {
     "name": "stdout",
     "output_type": "stream",
     "text": [
      "sus\n"
     ]
    },
    {
     "name": "stderr",
     "output_type": "stream",
     "text": [
      "  2%|█▋                                                                            | 54/2500 [08:33<6:00:27,  8.84s/it]"
     ]
    },
    {
     "name": "stdout",
     "output_type": "stream",
     "text": [
      "sus\n"
     ]
    },
    {
     "name": "stderr",
     "output_type": "stream",
     "text": [
      "  2%|█▊                                                                            | 60/2500 [08:56<3:03:35,  4.51s/it]"
     ]
    },
    {
     "name": "stdout",
     "output_type": "stream",
     "text": [
      "'str' object cannot be interpreted as an integer\n"
     ]
    },
    {
     "name": "stderr",
     "output_type": "stream",
     "text": [
      "  3%|█▉                                                                            | 64/2500 [09:16<2:49:11,  4.17s/it]"
     ]
    },
    {
     "name": "stdout",
     "output_type": "stream",
     "text": [
      "sus\n"
     ]
    },
    {
     "name": "stderr",
     "output_type": "stream",
     "text": [
      "  4%|██▊                                                                           | 90/2500 [11:51<1:50:45,  2.76s/it]"
     ]
    },
    {
     "name": "stdout",
     "output_type": "stream",
     "text": [
      "'str' object cannot be interpreted as an integer\n"
     ]
    },
    {
     "name": "stderr",
     "output_type": "stream",
     "text": [
      "  5%|███▌                                                                         | 116/2500 [18:53<3:45:04,  5.66s/it]"
     ]
    },
    {
     "name": "stdout",
     "output_type": "stream",
     "text": [
      "sus\n"
     ]
    },
    {
     "name": "stderr",
     "output_type": "stream",
     "text": [
      "  6%|████▌                                                                        | 148/2500 [28:55<6:17:23,  9.63s/it]"
     ]
    },
    {
     "name": "stdout",
     "output_type": "stream",
     "text": [
      "sus\n"
     ]
    },
    {
     "name": "stderr",
     "output_type": "stream",
     "text": [
      "  7%|█████                                                                        | 164/2500 [30:33<4:07:14,  6.35s/it]"
     ]
    },
    {
     "name": "stdout",
     "output_type": "stream",
     "text": [
      "sus\n"
     ]
    },
    {
     "name": "stderr",
     "output_type": "stream",
     "text": [
      "  8%|██████▏                                                                      | 199/2500 [40:24<3:51:56,  6.05s/it]"
     ]
    },
    {
     "name": "stdout",
     "output_type": "stream",
     "text": [
      "sus\n"
     ]
    },
    {
     "name": "stderr",
     "output_type": "stream",
     "text": [
      "  9%|██████▉                                                                      | 227/2500 [49:19<4:49:26,  7.64s/it]"
     ]
    },
    {
     "name": "stdout",
     "output_type": "stream",
     "text": [
      "sus\n"
     ]
    },
    {
     "name": "stderr",
     "output_type": "stream",
     "text": [
      " 10%|███████▌                                                                    | 249/2500 [57:52<38:50:55, 62.13s/it]"
     ]
    },
    {
     "name": "stdout",
     "output_type": "stream",
     "text": [
      "sus\n"
     ]
    },
    {
     "name": "stderr",
     "output_type": "stream",
     "text": [
      " 11%|███████▉                                                                   | 265/2500 [1:00:17<4:56:10,  7.95s/it]"
     ]
    },
    {
     "name": "stdout",
     "output_type": "stream",
     "text": [
      "sus\n"
     ]
    },
    {
     "name": "stderr",
     "output_type": "stream",
     "text": [
      " 11%|████████▏                                                                  | 271/2500 [1:01:43<6:46:42, 10.95s/it]"
     ]
    },
    {
     "name": "stdout",
     "output_type": "stream",
     "text": [
      "sus\n"
     ]
    },
    {
     "name": "stderr",
     "output_type": "stream",
     "text": [
      " 12%|█████████▎                                                                 | 310/2500 [1:12:10<3:33:44,  5.86s/it]"
     ]
    },
    {
     "name": "stdout",
     "output_type": "stream",
     "text": [
      "sus\n"
     ]
    },
    {
     "name": "stderr",
     "output_type": "stream",
     "text": [
      " 13%|█████████▊                                                                 | 325/2500 [1:19:21<3:53:09,  6.43s/it]"
     ]
    },
    {
     "name": "stdout",
     "output_type": "stream",
     "text": [
      "'str' object cannot be interpreted as an integer\n"
     ]
    },
    {
     "name": "stderr",
     "output_type": "stream",
     "text": [
      " 13%|█████████▉                                                                 | 331/2500 [1:19:58<2:06:10,  3.49s/it]"
     ]
    },
    {
     "name": "stdout",
     "output_type": "stream",
     "text": [
      "sus\n"
     ]
    },
    {
     "name": "stderr",
     "output_type": "stream",
     "text": [
      " 14%|██████████▎                                                                | 345/2500 [1:22:04<2:44:05,  4.57s/it]"
     ]
    },
    {
     "name": "stdout",
     "output_type": "stream",
     "text": [
      "sus\n"
     ]
    },
    {
     "name": "stderr",
     "output_type": "stream",
     "text": [
      "\r",
      " 14%|██████████▍                                                                | 346/2500 [1:22:05<2:06:27,  3.52s/it]"
     ]
    },
    {
     "name": "stdout",
     "output_type": "stream",
     "text": [
      "sus\n"
     ]
    },
    {
     "name": "stderr",
     "output_type": "stream",
     "text": [
      " 14%|██████████▌                                                               | 358/2500 [1:29:09<10:51:18, 18.24s/it]"
     ]
    },
    {
     "name": "stdout",
     "output_type": "stream",
     "text": [
      "sus\n"
     ]
    },
    {
     "name": "stderr",
     "output_type": "stream",
     "text": [
      " 15%|███████████▎                                                               | 378/2500 [1:31:54<5:48:07,  9.84s/it]"
     ]
    },
    {
     "name": "stdout",
     "output_type": "stream",
     "text": [
      "sus\n"
     ]
    },
    {
     "name": "stderr",
     "output_type": "stream",
     "text": [
      " 16%|███████████▊                                                               | 392/2500 [1:39:00<5:43:09,  9.77s/it]"
     ]
    },
    {
     "name": "stdout",
     "output_type": "stream",
     "text": [
      "sus\n"
     ]
    },
    {
     "name": "stderr",
     "output_type": "stream",
     "text": [
      " 16%|████████████                                                               | 402/2500 [1:40:47<7:01:03, 12.04s/it]"
     ]
    },
    {
     "name": "stdout",
     "output_type": "stream",
     "text": [
      "sus\n"
     ]
    },
    {
     "name": "stderr",
     "output_type": "stream",
     "text": [
      " 17%|████████████▊                                                              | 425/2500 [1:49:37<2:38:41,  4.59s/it]"
     ]
    },
    {
     "name": "stdout",
     "output_type": "stream",
     "text": [
      "sus\n"
     ]
    },
    {
     "name": "stderr",
     "output_type": "stream",
     "text": [
      " 19%|██████████████▍                                                            | 481/2500 [2:09:00<6:52:50, 12.27s/it]"
     ]
    },
    {
     "name": "stdout",
     "output_type": "stream",
     "text": [
      "sus\n"
     ]
    },
    {
     "name": "stderr",
     "output_type": "stream",
     "text": [
      " 21%|███████████████▌                                                           | 517/2500 [2:19:47<5:12:34,  9.46s/it]"
     ]
    },
    {
     "name": "stdout",
     "output_type": "stream",
     "text": [
      "'str' object cannot be interpreted as an integer\n"
     ]
    },
    {
     "name": "stderr",
     "output_type": "stream",
     "text": [
      " 21%|███████████████▊                                                           | 527/2500 [2:20:45<4:29:40,  8.20s/it]"
     ]
    },
    {
     "name": "stdout",
     "output_type": "stream",
     "text": [
      "'str' object cannot be interpreted as an integer\n"
     ]
    },
    {
     "name": "stderr",
     "output_type": "stream",
     "text": [
      " 21%|███████████████▉                                                           | 532/2500 [2:20:49<1:06:52,  2.04s/it]"
     ]
    },
    {
     "name": "stdout",
     "output_type": "stream",
     "text": [
      "sus\n"
     ]
    },
    {
     "name": "stderr",
     "output_type": "stream",
     "text": [
      " 22%|████████████████▎                                                         | 549/2500 [2:28:14<24:13:37, 44.70s/it]"
     ]
    },
    {
     "name": "stdout",
     "output_type": "stream",
     "text": [
      "sus\n"
     ]
    },
    {
     "name": "stderr",
     "output_type": "stream",
     "text": [
      " 23%|█████████████████▎                                                        | 586/2500 [2:37:56<14:30:06, 27.28s/it]"
     ]
    },
    {
     "name": "stdout",
     "output_type": "stream",
     "text": [
      "'str' object cannot be interpreted as an integer\n"
     ]
    },
    {
     "name": "stderr",
     "output_type": "stream",
     "text": [
      " 25%|██████████████████▊                                                        | 626/2500 [2:49:17<5:21:53, 10.31s/it]"
     ]
    },
    {
     "name": "stdout",
     "output_type": "stream",
     "text": [
      "sus\n"
     ]
    },
    {
     "name": "stderr",
     "output_type": "stream",
     "text": [
      " 26%|███████████████████▏                                                       | 641/2500 [2:50:36<1:39:55,  3.23s/it]"
     ]
    },
    {
     "name": "stdout",
     "output_type": "stream",
     "text": [
      "sus\n"
     ]
    },
    {
     "name": "stderr",
     "output_type": "stream",
     "text": [
      " 26%|███████████████████▎                                                       | 644/2500 [2:51:12<4:45:44,  9.24s/it]"
     ]
    },
    {
     "name": "stdout",
     "output_type": "stream",
     "text": [
      "sus\n"
     ]
    },
    {
     "name": "stderr",
     "output_type": "stream",
     "text": [
      " 27%|███████████████████▉                                                       | 666/2500 [2:59:13<4:03:12,  7.96s/it]"
     ]
    },
    {
     "name": "stdout",
     "output_type": "stream",
     "text": [
      "sus\n"
     ]
    },
    {
     "name": "stderr",
     "output_type": "stream",
     "text": [
      " 27%|████████████████████▏                                                      | 671/2500 [3:00:22<5:24:35, 10.65s/it]"
     ]
    },
    {
     "name": "stdout",
     "output_type": "stream",
     "text": [
      "sus\n"
     ]
    },
    {
     "name": "stderr",
     "output_type": "stream",
     "text": [
      " 27%|████████████████████▏                                                      | 674/2500 [3:00:41<3:22:41,  6.66s/it]"
     ]
    },
    {
     "name": "stdout",
     "output_type": "stream",
     "text": [
      "sus\n"
     ]
    },
    {
     "name": "stderr",
     "output_type": "stream",
     "text": [
      " 27%|████████████████████▎                                                      | 679/2500 [3:01:18<2:21:38,  4.67s/it]"
     ]
    },
    {
     "name": "stdout",
     "output_type": "stream",
     "text": [
      "sus\n"
     ]
    },
    {
     "name": "stderr",
     "output_type": "stream",
     "text": [
      " 27%|████████████████████▌                                                      | 684/2500 [3:02:12<5:26:16, 10.78s/it]"
     ]
    },
    {
     "name": "stdout",
     "output_type": "stream",
     "text": [
      "sus\n"
     ]
    },
    {
     "name": "stderr",
     "output_type": "stream",
     "text": [
      " 28%|█████████████████████                                                      | 700/2500 [3:09:19<2:24:49,  4.83s/it]"
     ]
    },
    {
     "name": "stdout",
     "output_type": "stream",
     "text": [
      "sus\n"
     ]
    },
    {
     "name": "stderr",
     "output_type": "stream",
     "text": [
      "\r",
      " 28%|█████████████████████                                                      | 701/2500 [3:09:20<1:53:44,  3.79s/it]"
     ]
    },
    {
     "name": "stdout",
     "output_type": "stream",
     "text": [
      "sus\n"
     ]
    },
    {
     "name": "stderr",
     "output_type": "stream",
     "text": [
      " 28%|█████████████████████                                                      | 703/2500 [3:09:22<1:11:17,  2.38s/it]"
     ]
    },
    {
     "name": "stdout",
     "output_type": "stream",
     "text": [
      "sus\n"
     ]
    },
    {
     "name": "stderr",
     "output_type": "stream",
     "text": [
      " 30%|██████████████████████▎                                                    | 743/2500 [3:20:42<6:30:14, 13.33s/it]"
     ]
    },
    {
     "name": "stdout",
     "output_type": "stream",
     "text": [
      "'str' object cannot be interpreted as an integer\n"
     ]
    },
    {
     "name": "stderr",
     "output_type": "stream",
     "text": [
      " 31%|███████████████████████▏                                                   | 772/2500 [3:29:54<3:32:30,  7.38s/it]"
     ]
    },
    {
     "name": "stdout",
     "output_type": "stream",
     "text": [
      "sus\n"
     ]
    },
    {
     "name": "stderr",
     "output_type": "stream",
     "text": [
      " 31%|███████████████████████▎                                                   | 777/2500 [3:30:47<3:55:57,  8.22s/it]"
     ]
    },
    {
     "name": "stdout",
     "output_type": "stream",
     "text": [
      "sus\n"
     ]
    },
    {
     "name": "stderr",
     "output_type": "stream",
     "text": [
      " 32%|███████████████████████▋                                                   | 789/2500 [3:32:19<2:58:13,  6.25s/it]"
     ]
    },
    {
     "name": "stdout",
     "output_type": "stream",
     "text": [
      "sus\n"
     ]
    },
    {
     "name": "stderr",
     "output_type": "stream",
     "text": [
      " 32%|████████████████████████▏                                                  | 805/2500 [3:39:38<3:30:43,  7.46s/it]"
     ]
    },
    {
     "name": "stdout",
     "output_type": "stream",
     "text": [
      "sus\n"
     ]
    },
    {
     "name": "stderr",
     "output_type": "stream",
     "text": [
      " 32%|████████████████████████▏                                                  | 807/2500 [3:39:56<3:31:23,  7.49s/it]"
     ]
    },
    {
     "name": "stdout",
     "output_type": "stream",
     "text": [
      "sus\n"
     ]
    },
    {
     "name": "stderr",
     "output_type": "stream",
     "text": [
      " 33%|████████████████████████▌                                                  | 819/2500 [3:41:28<2:54:14,  6.22s/it]"
     ]
    },
    {
     "name": "stdout",
     "output_type": "stream",
     "text": [
      "sus\n"
     ]
    },
    {
     "name": "stderr",
     "output_type": "stream",
     "text": [
      " 33%|████████████████████████▋                                                  | 821/2500 [3:41:30<1:41:02,  3.61s/it]"
     ]
    },
    {
     "name": "stdout",
     "output_type": "stream",
     "text": [
      "sus\n"
     ]
    },
    {
     "name": "stderr",
     "output_type": "stream",
     "text": [
      " 33%|████████████████████████▌                                                 | 830/2500 [3:48:16<24:27:07, 52.71s/it]"
     ]
    },
    {
     "name": "stdout",
     "output_type": "stream",
     "text": [
      "sus\n"
     ]
    },
    {
     "name": "stderr",
     "output_type": "stream",
     "text": [
      " 34%|█████████████████████████▎                                                | 855/2500 [3:57:56<20:26:58, 44.75s/it]"
     ]
    },
    {
     "name": "stdout",
     "output_type": "stream",
     "text": [
      "sus\n"
     ]
    },
    {
     "name": "stderr",
     "output_type": "stream",
     "text": [
      " 35%|█████████████████████████▉                                                 | 866/2500 [3:59:59<3:42:39,  8.18s/it]"
     ]
    },
    {
     "name": "stdout",
     "output_type": "stream",
     "text": [
      "sus\n"
     ]
    },
    {
     "name": "stderr",
     "output_type": "stream",
     "text": [
      " 35%|██████████████████████████▏                                                | 873/2500 [4:00:38<2:03:16,  4.55s/it]"
     ]
    },
    {
     "name": "stdout",
     "output_type": "stream",
     "text": [
      "sus\n"
     ]
    },
    {
     "name": "stderr",
     "output_type": "stream",
     "text": [
      " 36%|██████████████████████████▊                                                | 895/2500 [4:09:00<6:31:16, 14.63s/it]"
     ]
    },
    {
     "name": "stdout",
     "output_type": "stream",
     "text": [
      "sus\n"
     ]
    },
    {
     "name": "stderr",
     "output_type": "stream",
     "text": [
      "\r",
      " 36%|██████████████████████████▉                                                | 896/2500 [4:09:01<4:42:49, 10.58s/it]"
     ]
    },
    {
     "name": "stdout",
     "output_type": "stream",
     "text": [
      "sus\n"
     ]
    },
    {
     "name": "stderr",
     "output_type": "stream",
     "text": [
      " 36%|██████████████████████████▉                                                | 899/2500 [4:09:06<2:10:43,  4.90s/it]"
     ]
    },
    {
     "name": "stdout",
     "output_type": "stream",
     "text": [
      "'str' object cannot be interpreted as an integer\n"
     ]
    },
    {
     "name": "stderr",
     "output_type": "stream",
     "text": [
      "\r",
      " 36%|███████████████████████████                                                | 900/2500 [4:09:07<1:40:11,  3.76s/it]"
     ]
    },
    {
     "name": "stdout",
     "output_type": "stream",
     "text": [
      "sus\n"
     ]
    },
    {
     "name": "stderr",
     "output_type": "stream",
     "text": [
      " 36%|███████████████████████████▏                                               | 908/2500 [4:10:02<1:59:33,  4.51s/it]"
     ]
    },
    {
     "name": "stdout",
     "output_type": "stream",
     "text": [
      "sus\n"
     ]
    },
    {
     "name": "stderr",
     "output_type": "stream",
     "text": [
      " 39%|████████████████████████████▉                                              | 963/2500 [4:31:12<4:52:41, 11.43s/it]"
     ]
    },
    {
     "name": "stdout",
     "output_type": "stream",
     "text": [
      "sus\n"
     ]
    },
    {
     "name": "stderr",
     "output_type": "stream",
     "text": [
      " 39%|████████████████████████████▉                                             | 976/2500 [4:38:17<15:03:41, 35.58s/it]"
     ]
    },
    {
     "name": "stdout",
     "output_type": "stream",
     "text": [
      "sus\n"
     ]
    },
    {
     "name": "stderr",
     "output_type": "stream",
     "text": [
      " 40%|█████████████████████████████▋                                             | 989/2500 [4:40:22<3:19:34,  7.92s/it]"
     ]
    },
    {
     "name": "stdout",
     "output_type": "stream",
     "text": [
      "sus\n"
     ]
    },
    {
     "name": "stderr",
     "output_type": "stream",
     "text": [
      " 40%|█████████████████████████████▉                                            | 1012/2500 [4:49:29<3:59:35,  9.66s/it]"
     ]
    },
    {
     "name": "stdout",
     "output_type": "stream",
     "text": [
      "sus\n"
     ]
    },
    {
     "name": "stderr",
     "output_type": "stream",
     "text": [
      " 41%|██████████████████████████████                                            | 1015/2500 [4:49:48<3:00:57,  7.31s/it]"
     ]
    },
    {
     "name": "stdout",
     "output_type": "stream",
     "text": [
      "sus\n"
     ]
    },
    {
     "name": "stderr",
     "output_type": "stream",
     "text": [
      " 41%|██████████████████████████████▎                                           | 1024/2500 [4:51:01<2:51:46,  6.98s/it]"
     ]
    },
    {
     "name": "stdout",
     "output_type": "stream",
     "text": [
      "sus\n"
     ]
    },
    {
     "name": "stderr",
     "output_type": "stream",
     "text": [
      " 41%|██████████████████████████████▎                                          | 1037/2500 [4:57:35<12:37:04, 31.05s/it]"
     ]
    },
    {
     "name": "stdout",
     "output_type": "stream",
     "text": [
      "sus\n"
     ]
    },
    {
     "name": "stderr",
     "output_type": "stream",
     "text": [
      " 42%|██████████████████████████████▊                                           | 1041/2500 [4:58:26<6:04:25, 14.99s/it]"
     ]
    },
    {
     "name": "stdout",
     "output_type": "stream",
     "text": [
      "sus\n"
     ]
    },
    {
     "name": "stderr",
     "output_type": "stream",
     "text": [
      " 42%|███████████████████████████████▏                                          | 1054/2500 [5:00:47<3:38:11,  9.05s/it]"
     ]
    },
    {
     "name": "stdout",
     "output_type": "stream",
     "text": [
      "sus\n"
     ]
    },
    {
     "name": "stderr",
     "output_type": "stream",
     "text": [
      " 43%|███████████████████████████████▌                                          | 1066/2500 [5:02:19<2:39:31,  6.67s/it]"
     ]
    },
    {
     "name": "stdout",
     "output_type": "stream",
     "text": [
      "sus\n"
     ]
    },
    {
     "name": "stderr",
     "output_type": "stream",
     "text": [
      "\r",
      " 43%|███████████████████████████████▌                                          | 1067/2500 [5:02:29<3:03:54,  7.70s/it]"
     ]
    },
    {
     "name": "stdout",
     "output_type": "stream",
     "text": [
      "sus\n"
     ]
    },
    {
     "name": "stderr",
     "output_type": "stream",
     "text": [
      " 43%|███████████████████████████████▉                                          | 1078/2500 [5:08:51<3:11:42,  8.09s/it]"
     ]
    },
    {
     "name": "stdout",
     "output_type": "stream",
     "text": [
      "sus\n"
     ]
    },
    {
     "name": "stderr",
     "output_type": "stream",
     "text": [
      " 44%|████████████████████████████████▋                                         | 1105/2500 [5:19:38<6:48:55, 17.59s/it]"
     ]
    },
    {
     "name": "stdout",
     "output_type": "stream",
     "text": [
      "sus\n"
     ]
    },
    {
     "name": "stderr",
     "output_type": "stream",
     "text": [
      " 44%|████████████████████████████████▊                                         | 1107/2500 [5:19:56<4:51:04, 12.54s/it]"
     ]
    },
    {
     "name": "stdout",
     "output_type": "stream",
     "text": [
      "sus\n"
     ]
    },
    {
     "name": "stderr",
     "output_type": "stream",
     "text": [
      " 46%|█████████████████████████████████▋                                        | 1138/2500 [5:30:31<1:49:26,  4.82s/it]"
     ]
    },
    {
     "name": "stdout",
     "output_type": "stream",
     "text": [
      "sus\n"
     ]
    },
    {
     "name": "stderr",
     "output_type": "stream",
     "text": [
      " 46%|██████████████████████████████████▏                                       | 1154/2500 [5:38:27<9:10:13, 24.53s/it]"
     ]
    },
    {
     "name": "stdout",
     "output_type": "stream",
     "text": [
      "sus\n"
     ]
    },
    {
     "name": "stderr",
     "output_type": "stream",
     "text": [
      " 46%|██████████████████████████████████▏                                       | 1156/2500 [5:38:29<4:42:15, 12.60s/it]"
     ]
    },
    {
     "name": "stdout",
     "output_type": "stream",
     "text": [
      "sus\n"
     ]
    },
    {
     "name": "stderr",
     "output_type": "stream",
     "text": [
      " 47%|██████████████████████████████████▌                                       | 1168/2500 [5:40:17<1:49:52,  4.95s/it]"
     ]
    },
    {
     "name": "stdout",
     "output_type": "stream",
     "text": [
      "sus\n"
     ]
    },
    {
     "name": "stderr",
     "output_type": "stream",
     "text": [
      " 48%|███████████████████████████████████▎                                      | 1192/2500 [5:49:25<4:07:04, 11.33s/it]"
     ]
    },
    {
     "name": "stdout",
     "output_type": "stream",
     "text": [
      "sus\n"
     ]
    },
    {
     "name": "stderr",
     "output_type": "stream",
     "text": [
      " 48%|███████████████████████████████████▊                                      | 1209/2500 [5:51:34<1:46:35,  4.95s/it]"
     ]
    },
    {
     "name": "stdout",
     "output_type": "stream",
     "text": [
      "sus\n"
     ]
    },
    {
     "name": "stderr",
     "output_type": "stream",
     "text": [
      "\r",
      " 48%|███████████████████████████████████▊                                      | 1210/2500 [5:51:35<1:21:36,  3.80s/it]"
     ]
    },
    {
     "name": "stdout",
     "output_type": "stream",
     "text": [
      "sus\n"
     ]
    },
    {
     "name": "stderr",
     "output_type": "stream",
     "text": [
      " 49%|████████████████████████████████████▍                                     | 1229/2500 [5:59:19<3:31:17,  9.97s/it]"
     ]
    },
    {
     "name": "stdout",
     "output_type": "stream",
     "text": [
      "sus\n"
     ]
    },
    {
     "name": "stderr",
     "output_type": "stream",
     "text": [
      " 49%|█████████████████████████████████████▌                                      | 1237/2500 [5:59:43<43:29,  2.07s/it]"
     ]
    },
    {
     "name": "stdout",
     "output_type": "stream",
     "text": [
      "sus\n"
     ]
    },
    {
     "name": "stderr",
     "output_type": "stream",
     "text": [
      " 50%|████████████████████████████████████▊                                     | 1243/2500 [6:01:09<3:37:08, 10.36s/it]"
     ]
    },
    {
     "name": "stdout",
     "output_type": "stream",
     "text": [
      "sus\n"
     ]
    },
    {
     "name": "stderr",
     "output_type": "stream",
     "text": [
      " 50%|████████████████████████████████████▊                                     | 1245/2500 [6:01:27<3:06:41,  8.93s/it]"
     ]
    },
    {
     "name": "stdout",
     "output_type": "stream",
     "text": [
      "sus\n"
     ]
    },
    {
     "name": "stderr",
     "output_type": "stream",
     "text": [
      " 51%|█████████████████████████████████████▊                                    | 1278/2500 [6:11:16<3:12:14,  9.44s/it]"
     ]
    },
    {
     "name": "stdout",
     "output_type": "stream",
     "text": [
      "sus\n"
     ]
    },
    {
     "name": "stderr",
     "output_type": "stream",
     "text": [
      " 51%|█████████████████████████████████████▉                                    | 1280/2500 [6:11:18<1:45:44,  5.20s/it]"
     ]
    },
    {
     "name": "stdout",
     "output_type": "stream",
     "text": [
      "sus\n"
     ]
    },
    {
     "name": "stderr",
     "output_type": "stream",
     "text": [
      " 51%|██████████████████████████████████████                                    | 1286/2500 [6:12:13<2:07:41,  6.31s/it]"
     ]
    },
    {
     "name": "stdout",
     "output_type": "stream",
     "text": [
      "sus\n"
     ]
    },
    {
     "name": "stderr",
     "output_type": "stream",
     "text": [
      " 52%|██████████████████████████████████████▋                                   | 1309/2500 [6:20:16<2:00:26,  6.07s/it]"
     ]
    },
    {
     "name": "stdout",
     "output_type": "stream",
     "text": [
      "'str' object cannot be interpreted as an integer\n"
     ]
    },
    {
     "name": "stderr",
     "output_type": "stream",
     "text": [
      " 53%|██████████████████████████████████████▉                                   | 1316/2500 [6:21:27<2:10:19,  6.60s/it]"
     ]
    },
    {
     "name": "stdout",
     "output_type": "stream",
     "text": [
      "sus\n"
     ]
    },
    {
     "name": "stderr",
     "output_type": "stream",
     "text": [
      " 53%|███████████████████████████████████████▎                                  | 1328/2500 [6:28:48<4:14:38, 13.04s/it]"
     ]
    },
    {
     "name": "stdout",
     "output_type": "stream",
     "text": [
      "sus\n"
     ]
    },
    {
     "name": "stderr",
     "output_type": "stream",
     "text": [
      " 53%|███████████████████████████████████████▍                                  | 1334/2500 [6:29:10<1:08:32,  3.53s/it]"
     ]
    },
    {
     "name": "stdout",
     "output_type": "stream",
     "text": [
      "sus\n"
     ]
    },
    {
     "name": "stderr",
     "output_type": "stream",
     "text": [
      " 54%|███████████████████████████████████████▋                                  | 1340/2500 [6:30:04<2:38:26,  8.19s/it]"
     ]
    },
    {
     "name": "stdout",
     "output_type": "stream",
     "text": [
      "sus\n"
     ]
    },
    {
     "name": "stderr",
     "output_type": "stream",
     "text": [
      " 54%|████████████████████████████████████████                                  | 1352/2500 [6:31:52<2:09:06,  6.75s/it]"
     ]
    },
    {
     "name": "stdout",
     "output_type": "stream",
     "text": [
      "sus\n"
     ]
    },
    {
     "name": "stderr",
     "output_type": "stream",
     "text": [
      " 55%|████████████████████████████████████████▌                                 | 1371/2500 [6:39:52<3:56:35, 12.57s/it]"
     ]
    },
    {
     "name": "stdout",
     "output_type": "stream",
     "text": [
      "sus\n"
     ]
    },
    {
     "name": "stderr",
     "output_type": "stream",
     "text": [
      " 55%|████████████████████████████████████████▋                                 | 1374/2500 [6:39:54<1:42:51,  5.48s/it]"
     ]
    },
    {
     "name": "stdout",
     "output_type": "stream",
     "text": [
      "sus\n"
     ]
    },
    {
     "name": "stderr",
     "output_type": "stream",
     "text": [
      " 55%|████████████████████████████████████████▋                                 | 1376/2500 [6:40:12<2:00:22,  6.43s/it]"
     ]
    },
    {
     "name": "stdout",
     "output_type": "stream",
     "text": [
      "sus\n"
     ]
    },
    {
     "name": "stderr",
     "output_type": "stream",
     "text": [
      " 55%|████████████████████████████████████████▉                                 | 1385/2500 [6:41:57<3:21:15, 10.83s/it]"
     ]
    },
    {
     "name": "stdout",
     "output_type": "stream",
     "text": [
      "sus\n"
     ]
    },
    {
     "name": "stderr",
     "output_type": "stream",
     "text": [
      " 56%|█████████████████████████████████████████▍                                | 1399/2500 [6:49:51<3:13:14, 10.53s/it]"
     ]
    },
    {
     "name": "stdout",
     "output_type": "stream",
     "text": [
      "sus\n"
     ]
    },
    {
     "name": "stderr",
     "output_type": "stream",
     "text": [
      " 56%|█████████████████████████████████████████▌                                | 1405/2500 [6:50:15<1:16:55,  4.22s/it]"
     ]
    },
    {
     "name": "stdout",
     "output_type": "stream",
     "text": [
      "'str' object cannot be interpreted as an integer\n"
     ]
    },
    {
     "name": "stderr",
     "output_type": "stream",
     "text": [
      " 57%|██████████████████████████████████████████                                | 1421/2500 [6:58:58<7:39:34, 25.56s/it]"
     ]
    },
    {
     "name": "stdout",
     "output_type": "stream",
     "text": [
      "sus\n"
     ]
    },
    {
     "name": "stderr",
     "output_type": "stream",
     "text": [
      "\r",
      " 57%|██████████████████████████████████████████                                | 1422/2500 [6:58:59<5:28:01, 18.26s/it]"
     ]
    },
    {
     "name": "stdout",
     "output_type": "stream",
     "text": [
      "sus\n"
     ]
    },
    {
     "name": "stderr",
     "output_type": "stream",
     "text": [
      " 57%|██████████████████████████████████████████▏                               | 1424/2500 [6:59:01<2:50:59,  9.53s/it]"
     ]
    },
    {
     "name": "stdout",
     "output_type": "stream",
     "text": [
      "sus\n"
     ]
    },
    {
     "name": "stderr",
     "output_type": "stream",
     "text": [
      " 57%|██████████████████████████████████████████▍                               | 1434/2500 [7:00:58<2:34:12,  8.68s/it]"
     ]
    },
    {
     "name": "stdout",
     "output_type": "stream",
     "text": [
      "sus\n"
     ]
    },
    {
     "name": "stderr",
     "output_type": "stream",
     "text": [
      " 58%|██████████████████████████████████████████▌                               | 1439/2500 [7:01:35<1:59:17,  6.75s/it]"
     ]
    },
    {
     "name": "stdout",
     "output_type": "stream",
     "text": [
      "sus\n"
     ]
    },
    {
     "name": "stderr",
     "output_type": "stream",
     "text": [
      "\r",
      " 58%|██████████████████████████████████████████▌                               | 1440/2500 [7:01:36<1:29:54,  5.09s/it]"
     ]
    },
    {
     "name": "stdout",
     "output_type": "stream",
     "text": [
      "sus\n"
     ]
    },
    {
     "name": "stderr",
     "output_type": "stream",
     "text": [
      " 58%|██████████████████████████████████████████▊                               | 1448/2500 [7:04:31<7:22:53, 25.26s/it]"
     ]
    },
    {
     "name": "stdout",
     "output_type": "stream",
     "text": [
      "sus\n"
     ]
    },
    {
     "name": "stderr",
     "output_type": "stream",
     "text": [
      " 58%|██████████████████████████████████████████▎                              | 1451/2500 [7:07:43<11:17:35, 38.76s/it]"
     ]
    },
    {
     "name": "stdout",
     "output_type": "stream",
     "text": [
      "sus\n"
     ]
    },
    {
     "name": "stderr",
     "output_type": "stream",
     "text": [
      " 58%|███████████████████████████████████████████▏                              | 1460/2500 [7:09:04<2:40:29,  9.26s/it]"
     ]
    },
    {
     "name": "stdout",
     "output_type": "stream",
     "text": [
      "sus\n"
     ]
    },
    {
     "name": "stderr",
     "output_type": "stream",
     "text": [
      "\r",
      " 58%|███████████████████████████████████████████▏                              | 1461/2500 [7:09:05<1:57:55,  6.81s/it]"
     ]
    },
    {
     "name": "stdout",
     "output_type": "stream",
     "text": [
      "sus\n"
     ]
    },
    {
     "name": "stderr",
     "output_type": "stream",
     "text": [
      " 59%|████████████████████████████████████████████▌                               | 1465/2500 [7:09:10<45:56,  2.66s/it]"
     ]
    },
    {
     "name": "stdout",
     "output_type": "stream",
     "text": [
      "'str' object cannot be interpreted as an integer\n"
     ]
    },
    {
     "name": "stderr",
     "output_type": "stream",
     "text": [
      " 60%|████████████████████████████████████████████▏                             | 1491/2500 [7:12:00<1:55:54,  6.89s/it]"
     ]
    },
    {
     "name": "stdout",
     "output_type": "stream",
     "text": [
      "sus\n"
     ]
    },
    {
     "name": "stderr",
     "output_type": "stream",
     "text": [
      " 61%|████████████████████████████████████████████▊                            | 1536/2500 [7:27:23<12:21:31, 46.15s/it]"
     ]
    },
    {
     "name": "stdout",
     "output_type": "stream",
     "text": [
      "sus\n"
     ]
    },
    {
     "name": "stderr",
     "output_type": "stream",
     "text": [
      " 62%|█████████████████████████████████████████████▌                            | 1540/2500 [7:28:25<4:56:22, 18.52s/it]"
     ]
    },
    {
     "name": "stdout",
     "output_type": "stream",
     "text": [
      "sus\n"
     ]
    },
    {
     "name": "stderr",
     "output_type": "stream",
     "text": [
      " 62%|██████████████████████████████████████████████                            | 1555/2500 [7:31:04<2:31:55,  9.65s/it]"
     ]
    },
    {
     "name": "stdout",
     "output_type": "stream",
     "text": [
      "sus\n"
     ]
    },
    {
     "name": "stderr",
     "output_type": "stream",
     "text": [
      "\r",
      " 62%|██████████████████████████████████████████████                            | 1556/2500 [7:31:05<1:52:42,  7.16s/it]"
     ]
    },
    {
     "name": "stdout",
     "output_type": "stream",
     "text": [
      "sus\n"
     ]
    },
    {
     "name": "stderr",
     "output_type": "stream",
     "text": [
      " 63%|██████████████████████████████████████████████▍                           | 1568/2500 [7:33:11<3:22:53, 13.06s/it]"
     ]
    },
    {
     "name": "stdout",
     "output_type": "stream",
     "text": [
      "sus\n"
     ]
    },
    {
     "name": "stderr",
     "output_type": "stream",
     "text": [
      " 63%|██████████████████████████████████████████████▊                           | 1583/2500 [7:39:47<2:27:46,  9.67s/it]"
     ]
    },
    {
     "name": "stdout",
     "output_type": "stream",
     "text": [
      "sus\n"
     ]
    },
    {
     "name": "stderr",
     "output_type": "stream",
     "text": [
      " 64%|███████████████████████████████████████████████▌                          | 1607/2500 [7:48:45<2:22:16,  9.56s/it]"
     ]
    },
    {
     "name": "stdout",
     "output_type": "stream",
     "text": [
      "sus\n"
     ]
    },
    {
     "name": "stderr",
     "output_type": "stream",
     "text": [
      " 64%|█████████████████████████████████████████████████                           | 1612/2500 [7:49:06<59:45,  4.04s/it]"
     ]
    },
    {
     "name": "stdout",
     "output_type": "stream",
     "text": [
      "sus\n"
     ]
    },
    {
     "name": "stderr",
     "output_type": "stream",
     "text": [
      " 65%|███████████████████████████████████████████████▊                          | 1617/2500 [7:49:43<1:19:35,  5.41s/it]"
     ]
    },
    {
     "name": "stdout",
     "output_type": "stream",
     "text": [
      "sus\n"
     ]
    },
    {
     "name": "stderr",
     "output_type": "stream",
     "text": [
      " 65%|████████████████████████████████████████████████▏                         | 1627/2500 [7:51:16<2:02:57,  8.45s/it]"
     ]
    },
    {
     "name": "stdout",
     "output_type": "stream",
     "text": [
      "'str' object cannot be interpreted as an integer\n"
     ]
    },
    {
     "name": "stderr",
     "output_type": "stream",
     "text": [
      " 65%|█████████████████████████████████████████████████▌                          | 1632/2500 [7:51:35<43:48,  3.03s/it]"
     ]
    },
    {
     "name": "stdout",
     "output_type": "stream",
     "text": [
      "sus\n"
     ]
    },
    {
     "name": "stderr",
     "output_type": "stream",
     "text": [
      " 66%|█████████████████████████████████████████████████▊                          | 1638/2500 [7:51:57<29:17,  2.04s/it]"
     ]
    },
    {
     "name": "stdout",
     "output_type": "stream",
     "text": [
      "sus\n"
     ]
    },
    {
     "name": "stderr",
     "output_type": "stream",
     "text": [
      " 66%|████████████████████████████████████████████████                         | 1644/2500 [7:58:06<11:07:00, 46.75s/it]"
     ]
    },
    {
     "name": "stdout",
     "output_type": "stream",
     "text": [
      "sus\n"
     ]
    },
    {
     "name": "stderr",
     "output_type": "stream",
     "text": [
      " 67%|█████████████████████████████████████████████████▍                        | 1669/2500 [8:01:43<2:00:40,  8.71s/it]"
     ]
    },
    {
     "name": "stdout",
     "output_type": "stream",
     "text": [
      "sus\n"
     ]
    },
    {
     "name": "stderr",
     "output_type": "stream",
     "text": [
      "\r",
      " 67%|█████████████████████████████████████████████████▍                        | 1670/2500 [8:02:01<2:40:28, 11.60s/it]"
     ]
    },
    {
     "name": "stdout",
     "output_type": "stream",
     "text": [
      "sus\n"
     ]
    },
    {
     "name": "stderr",
     "output_type": "stream",
     "text": [
      " 67%|█████████████████████████████████████████████████▌                        | 1675/2500 [8:02:39<2:11:48,  9.59s/it]"
     ]
    },
    {
     "name": "stdout",
     "output_type": "stream",
     "text": [
      "sus\n"
     ]
    },
    {
     "name": "stderr",
     "output_type": "stream",
     "text": [
      " 67%|█████████████████████████████████████████████████▋                        | 1680/2500 [8:08:14<9:46:32, 42.92s/it]"
     ]
    },
    {
     "name": "stdout",
     "output_type": "stream",
     "text": [
      "sus\n"
     ]
    },
    {
     "name": "stderr",
     "output_type": "stream",
     "text": [
      " 68%|█████████████████████████████████████████████████▉                        | 1688/2500 [8:09:10<1:31:41,  6.78s/it]"
     ]
    },
    {
     "name": "stdout",
     "output_type": "stream",
     "text": [
      "sus\n"
     ]
    },
    {
     "name": "stderr",
     "output_type": "stream",
     "text": [
      "\r",
      " 68%|█████████████████████████████████████████████████▉                        | 1689/2500 [8:09:11<1:08:44,  5.09s/it]"
     ]
    },
    {
     "name": "stdout",
     "output_type": "stream",
     "text": [
      "sus\n"
     ]
    },
    {
     "name": "stderr",
     "output_type": "stream",
     "text": [
      " 68%|██████████████████████████████████████████████████▏                       | 1694/2500 [8:09:59<1:52:43,  8.39s/it]"
     ]
    },
    {
     "name": "stdout",
     "output_type": "stream",
     "text": [
      "'str' object cannot be interpreted as an integer\n"
     ]
    },
    {
     "name": "stderr",
     "output_type": "stream",
     "text": [
      " 68%|███████████████████████████████████████████████████▋                        | 1699/2500 [8:10:10<46:10,  3.46s/it]"
     ]
    },
    {
     "name": "stdout",
     "output_type": "stream",
     "text": [
      "sus\n"
     ]
    },
    {
     "name": "stderr",
     "output_type": "stream",
     "text": [
      " 68%|██████████████████████████████████████████████████▍                       | 1705/2500 [8:11:20<1:55:51,  8.74s/it]"
     ]
    },
    {
     "name": "stdout",
     "output_type": "stream",
     "text": [
      "sus\n"
     ]
    },
    {
     "name": "stderr",
     "output_type": "stream",
     "text": [
      " 68%|██████████████████████████████████████████████████▌                       | 1707/2500 [8:11:38<1:48:38,  8.22s/it]"
     ]
    },
    {
     "name": "stdout",
     "output_type": "stream",
     "text": [
      "sus\n"
     ]
    },
    {
     "name": "stderr",
     "output_type": "stream",
     "text": [
      " 69%|███████████████████████████████████████████████████                       | 1727/2500 [8:19:22<1:51:04,  8.62s/it]"
     ]
    },
    {
     "name": "stdout",
     "output_type": "stream",
     "text": [
      "sus\n"
     ]
    },
    {
     "name": "stderr",
     "output_type": "stream",
     "text": [
      " 69%|███████████████████████████████████████████████████▏                      | 1730/2500 [8:20:24<3:23:18, 15.84s/it]"
     ]
    },
    {
     "name": "stdout",
     "output_type": "stream",
     "text": [
      "sus\n"
     ]
    },
    {
     "name": "stderr",
     "output_type": "stream",
     "text": [
      " 70%|████████████████████████████████████████████████████▏                     | 1761/2500 [8:30:18<1:36:21,  7.82s/it]"
     ]
    },
    {
     "name": "stdout",
     "output_type": "stream",
     "text": [
      "sus\n"
     ]
    },
    {
     "name": "stderr",
     "output_type": "stream",
     "text": [
      " 71%|████████████████████████████████████████████████████▏                     | 1765/2500 [8:30:53<1:35:52,  7.83s/it]"
     ]
    },
    {
     "name": "stdout",
     "output_type": "stream",
     "text": [
      "sus\n"
     ]
    },
    {
     "name": "stderr",
     "output_type": "stream",
     "text": [
      " 71%|██████████████████████████████████████████████████████                      | 1779/2500 [8:31:57<31:11,  2.60s/it]"
     ]
    },
    {
     "name": "stdout",
     "output_type": "stream",
     "text": [
      "sus\n"
     ]
    },
    {
     "name": "stderr",
     "output_type": "stream",
     "text": [
      " 72%|████████████████████████████████████████████████████▉                     | 1788/2500 [8:38:07<7:10:54, 36.31s/it]"
     ]
    },
    {
     "name": "stdout",
     "output_type": "stream",
     "text": [
      "sus\n"
     ]
    },
    {
     "name": "stderr",
     "output_type": "stream",
     "text": [
      " 72%|█████████████████████████████████████████████████████                     | 1792/2500 [8:38:43<3:00:55, 15.33s/it]"
     ]
    },
    {
     "name": "stdout",
     "output_type": "stream",
     "text": [
      "sus\n"
     ]
    },
    {
     "name": "stderr",
     "output_type": "stream",
     "text": [
      " 72%|█████████████████████████████████████████████████████▎                    | 1802/2500 [8:39:57<1:09:09,  5.94s/it]"
     ]
    },
    {
     "name": "stdout",
     "output_type": "stream",
     "text": [
      "sus\n"
     ]
    },
    {
     "name": "stderr",
     "output_type": "stream",
     "text": [
      "\r",
      " 72%|██████████████████████████████████████████████████████▊                     | 1803/2500 [8:39:58<52:12,  4.49s/it]"
     ]
    },
    {
     "name": "stdout",
     "output_type": "stream",
     "text": [
      "sus\n"
     ]
    },
    {
     "name": "stderr",
     "output_type": "stream",
     "text": [
      " 72%|██████████████████████████████████████████████████████▊                     | 1805/2500 [8:40:00<30:13,  2.61s/it]"
     ]
    },
    {
     "name": "stdout",
     "output_type": "stream",
     "text": [
      "sus\n"
     ]
    },
    {
     "name": "stderr",
     "output_type": "stream",
     "text": [
      " 72%|█████████████████████████████████████████████████████▋                    | 1812/2500 [8:41:27<1:56:23, 10.15s/it]"
     ]
    },
    {
     "name": "stdout",
     "output_type": "stream",
     "text": [
      "sus\n"
     ]
    },
    {
     "name": "stderr",
     "output_type": "stream",
     "text": [
      " 73%|█████████████████████████████████████████████████████▊                    | 1816/2500 [8:42:03<1:20:25,  7.05s/it]"
     ]
    },
    {
     "name": "stdout",
     "output_type": "stream",
     "text": [
      "sus\n"
     ]
    },
    {
     "name": "stderr",
     "output_type": "stream",
     "text": [
      " 73%|███████████████████████████████████████████████████████▎                    | 1819/2500 [8:42:06<33:54,  2.99s/it]"
     ]
    },
    {
     "name": "stdout",
     "output_type": "stream",
     "text": [
      "sus\n"
     ]
    },
    {
     "name": "stderr",
     "output_type": "stream",
     "text": [
      "\r",
      " 73%|███████████████████████████████████████████████████████▎                    | 1820/2500 [8:42:07<27:24,  2.42s/it]"
     ]
    },
    {
     "name": "stdout",
     "output_type": "stream",
     "text": [
      "sus\n"
     ]
    },
    {
     "name": "stderr",
     "output_type": "stream",
     "text": [
      " 73%|██████████████████████████████████████████████████████▏                   | 1830/2500 [8:48:21<3:51:44, 20.75s/it]"
     ]
    },
    {
     "name": "stdout",
     "output_type": "stream",
     "text": [
      "sus\n"
     ]
    },
    {
     "name": "stderr",
     "output_type": "stream",
     "text": [
      " 74%|██████████████████████████████████████████████████████▋                   | 1848/2500 [8:50:47<1:18:35,  7.23s/it]"
     ]
    },
    {
     "name": "stdout",
     "output_type": "stream",
     "text": [
      "sus\n"
     ]
    },
    {
     "name": "stderr",
     "output_type": "stream",
     "text": [
      " 75%|███████████████████████████████████████████████████████▏                  | 1864/2500 [8:57:42<2:42:05, 15.29s/it]"
     ]
    },
    {
     "name": "stdout",
     "output_type": "stream",
     "text": [
      "sus\n"
     ]
    },
    {
     "name": "stderr",
     "output_type": "stream",
     "text": [
      " 75%|███████████████████████████████████████████████████████▌                  | 1876/2500 [8:59:41<1:10:55,  6.82s/it]"
     ]
    },
    {
     "name": "stdout",
     "output_type": "stream",
     "text": [
      "sus\n"
     ]
    },
    {
     "name": "stderr",
     "output_type": "stream",
     "text": [
      " 76%|███████████████████████████████████████████████████████▉                  | 1891/2500 [9:02:15<1:33:32,  9.22s/it]"
     ]
    },
    {
     "name": "stdout",
     "output_type": "stream",
     "text": [
      "sus\n"
     ]
    },
    {
     "name": "stderr",
     "output_type": "stream",
     "text": [
      "\r",
      " 76%|████████████████████████████████████████████████████████                  | 1892/2500 [9:02:16<1:09:32,  6.86s/it]"
     ]
    },
    {
     "name": "stdout",
     "output_type": "stream",
     "text": [
      "sus\n"
     ]
    },
    {
     "name": "stderr",
     "output_type": "stream",
     "text": [
      " 76%|████████████████████████████████████████████████████████▏                 | 1899/2500 [9:07:54<4:35:26, 27.50s/it]"
     ]
    },
    {
     "name": "stdout",
     "output_type": "stream",
     "text": [
      "sus\n"
     ]
    },
    {
     "name": "stderr",
     "output_type": "stream",
     "text": [
      " 77%|██████████████████████████████████████████████████████████▏                 | 1916/2500 [9:10:04<40:13,  4.13s/it]"
     ]
    },
    {
     "name": "stdout",
     "output_type": "stream",
     "text": [
      "sus\n"
     ]
    },
    {
     "name": "stderr",
     "output_type": "stream",
     "text": [
      " 77%|██████████████████████████████████████████████████████████▎                 | 1918/2500 [9:10:22<56:35,  5.83s/it]"
     ]
    },
    {
     "name": "stdout",
     "output_type": "stream",
     "text": [
      "sus\n"
     ]
    },
    {
     "name": "stderr",
     "output_type": "stream",
     "text": [
      " 77%|████████████████████████████████████████████████████████▊                 | 1921/2500 [9:11:14<1:33:18,  9.67s/it]"
     ]
    },
    {
     "name": "stdout",
     "output_type": "stream",
     "text": [
      "sus\n"
     ]
    },
    {
     "name": "stderr",
     "output_type": "stream",
     "text": [
      "\r",
      " 77%|████████████████████████████████████████████████████████▉                 | 1922/2500 [9:11:17<1:15:22,  7.82s/it]"
     ]
    },
    {
     "name": "stdout",
     "output_type": "stream",
     "text": [
      "sus\n"
     ]
    },
    {
     "name": "stderr",
     "output_type": "stream",
     "text": [
      " 77%|█████████████████████████████████████████████████████████                 | 1927/2500 [9:11:51<1:07:37,  7.08s/it]"
     ]
    },
    {
     "name": "stdout",
     "output_type": "stream",
     "text": [
      "sus\n"
     ]
    },
    {
     "name": "stderr",
     "output_type": "stream",
     "text": [
      "\r",
      " 77%|█████████████████████████████████████████████████████████                 | 1928/2500 [9:12:08<1:36:22, 10.11s/it]"
     ]
    },
    {
     "name": "stdout",
     "output_type": "stream",
     "text": [
      "sus\n"
     ]
    },
    {
     "name": "stderr",
     "output_type": "stream",
     "text": [
      "\r",
      " 77%|██████████████████████████████████████████████████████████▋                 | 1930/2500 [9:12:10<55:50,  5.88s/it]"
     ]
    },
    {
     "name": "stdout",
     "output_type": "stream",
     "text": [
      "sus\n"
     ]
    },
    {
     "name": "stderr",
     "output_type": "stream",
     "text": [
      "\r",
      " 77%|██████████████████████████████████████████████████████████▋                 | 1931/2500 [9:12:11<44:48,  4.72s/it]"
     ]
    },
    {
     "name": "stdout",
     "output_type": "stream",
     "text": [
      "sus\n"
     ]
    },
    {
     "name": "stderr",
     "output_type": "stream",
     "text": [
      " 78%|█████████████████████████████████████████████████████████▎                | 1938/2500 [9:18:06<3:56:14, 25.22s/it]"
     ]
    },
    {
     "name": "stdout",
     "output_type": "stream",
     "text": [
      "sus\n"
     ]
    },
    {
     "name": "stderr",
     "output_type": "stream",
     "text": [
      " 78%|█████████████████████████████████████████████████████████▋                | 1951/2500 [9:20:43<1:26:57,  9.50s/it]"
     ]
    },
    {
     "name": "stdout",
     "output_type": "stream",
     "text": [
      "sus\n"
     ]
    },
    {
     "name": "stderr",
     "output_type": "stream",
     "text": [
      " 78%|███████████████████████████████████████████████████████████▍                | 1957/2500 [9:21:05<48:51,  5.40s/it]"
     ]
    },
    {
     "name": "stdout",
     "output_type": "stream",
     "text": [
      "sus\n"
     ]
    },
    {
     "name": "stderr",
     "output_type": "stream",
     "text": [
      " 79%|██████████████████████████████████████████████████████████▎               | 1972/2500 [9:28:22<2:18:03, 15.69s/it]"
     ]
    },
    {
     "name": "stdout",
     "output_type": "stream",
     "text": [
      "sus\n"
     ]
    },
    {
     "name": "stderr",
     "output_type": "stream",
     "text": [
      " 79%|██████████████████████████████████████████████████████████▌               | 1978/2500 [9:29:00<1:12:54,  8.38s/it]"
     ]
    },
    {
     "name": "stdout",
     "output_type": "stream",
     "text": [
      "sus\n"
     ]
    },
    {
     "name": "stderr",
     "output_type": "stream",
     "text": [
      " 79%|████████████████████████████████████████████████████████████▎               | 1985/2500 [9:29:23<28:08,  3.28s/it]"
     ]
    },
    {
     "name": "stdout",
     "output_type": "stream",
     "text": [
      "sus\n"
     ]
    },
    {
     "name": "stderr",
     "output_type": "stream",
     "text": [
      " 79%|████████████████████████████████████████████████████████████▍               | 1987/2500 [9:29:25<17:36,  2.06s/it]"
     ]
    },
    {
     "name": "stdout",
     "output_type": "stream",
     "text": [
      "sus\n"
     ]
    },
    {
     "name": "stderr",
     "output_type": "stream",
     "text": [
      " 80%|████████████████████████████████████████████████████████████▊               | 1999/2500 [9:30:41<46:50,  5.61s/it]"
     ]
    },
    {
     "name": "stdout",
     "output_type": "stream",
     "text": [
      "sus\n"
     ]
    },
    {
     "name": "stderr",
     "output_type": "stream",
     "text": [
      " 80%|███████████████████████████████████████████████████████████▍              | 2007/2500 [9:31:53<1:12:26,  8.82s/it]"
     ]
    },
    {
     "name": "stdout",
     "output_type": "stream",
     "text": [
      "sus\n"
     ]
    },
    {
     "name": "stderr",
     "output_type": "stream",
     "text": [
      " 81%|███████████████████████████████████████████████████████████▌              | 2014/2500 [9:37:13<6:38:55, 49.25s/it]"
     ]
    },
    {
     "name": "stdout",
     "output_type": "stream",
     "text": [
      "sus\n"
     ]
    },
    {
     "name": "stderr",
     "output_type": "stream",
     "text": [
      " 83%|██████████████████████████████████████████████████████████████▊             | 2066/2500 [9:49:59<45:26,  6.28s/it]"
     ]
    },
    {
     "name": "stdout",
     "output_type": "stream",
     "text": [
      "sus\n"
     ]
    },
    {
     "name": "stderr",
     "output_type": "stream",
     "text": [
      " 84%|█████████████████████████████████████████████████████████████▊            | 2088/2500 [9:58:00<5:51:28, 51.19s/it]"
     ]
    },
    {
     "name": "stdout",
     "output_type": "stream",
     "text": [
      "sus\n"
     ]
    },
    {
     "name": "stderr",
     "output_type": "stream",
     "text": [
      " 84%|█████████████████████████████████████████████████████████████▌           | 2110/2500 [10:01:45<1:04:56,  9.99s/it]"
     ]
    },
    {
     "name": "stdout",
     "output_type": "stream",
     "text": [
      "sus\n"
     ]
    },
    {
     "name": "stderr",
     "output_type": "stream",
     "text": [
      " 84%|███████████████████████████████████████████████████████████████▎           | 2112/2500 [10:01:49<39:48,  6.16s/it]"
     ]
    },
    {
     "name": "stdout",
     "output_type": "stream",
     "text": [
      "'str' object cannot be interpreted as an integer\n"
     ]
    },
    {
     "name": "stderr",
     "output_type": "stream",
     "text": [
      " 85%|█████████████████████████████████████████████████████████████▉           | 2120/2500 [10:08:04<7:08:55, 67.72s/it]"
     ]
    },
    {
     "name": "stdout",
     "output_type": "stream",
     "text": [
      "sus\n"
     ]
    },
    {
     "name": "stderr",
     "output_type": "stream",
     "text": [
      " 85%|████████████████████████████████████████████████████████████████           | 2134/2500 [10:09:36<40:48,  6.69s/it]"
     ]
    },
    {
     "name": "stdout",
     "output_type": "stream",
     "text": [
      "sus\n"
     ]
    },
    {
     "name": "stderr",
     "output_type": "stream",
     "text": [
      " 86%|████████████████████████████████████████████████████████████████▍          | 2146/2500 [10:11:08<37:41,  6.39s/it]"
     ]
    },
    {
     "name": "stdout",
     "output_type": "stream",
     "text": [
      "sus\n"
     ]
    },
    {
     "name": "stderr",
     "output_type": "stream",
     "text": [
      " 86%|████████████████████████████████████████████████████████████████▍          | 2149/2500 [10:11:11<16:41,  2.85s/it]"
     ]
    },
    {
     "name": "stdout",
     "output_type": "stream",
     "text": [
      "sus\n"
     ]
    },
    {
     "name": "stderr",
     "output_type": "stream",
     "text": [
      " 87%|█████████████████████████████████████████████████████████████████▎         | 2178/2500 [10:19:20<29:36,  5.52s/it]"
     ]
    },
    {
     "name": "stdout",
     "output_type": "stream",
     "text": [
      "sus\n"
     ]
    },
    {
     "name": "stderr",
     "output_type": "stream",
     "text": [
      " 88%|████████████████████████████████████████████████████████████████▏        | 2199/2500 [10:27:57<3:05:52, 37.05s/it]"
     ]
    },
    {
     "name": "stdout",
     "output_type": "stream",
     "text": [
      "sus\n"
     ]
    },
    {
     "name": "stderr",
     "output_type": "stream",
     "text": [
      " 88%|████████████████████████████████████████████████████████████████▎        | 2203/2500 [10:28:33<1:11:19, 14.41s/it]"
     ]
    },
    {
     "name": "stdout",
     "output_type": "stream",
     "text": [
      "sus\n"
     ]
    },
    {
     "name": "stderr",
     "output_type": "stream",
     "text": [
      " 88%|██████████████████████████████████████████████████████████████████▎        | 2209/2500 [10:29:43<51:02, 10.52s/it]"
     ]
    },
    {
     "name": "stdout",
     "output_type": "stream",
     "text": [
      "sus\n"
     ]
    },
    {
     "name": "stderr",
     "output_type": "stream",
     "text": [
      "\r",
      " 88%|██████████████████████████████████████████████████████████████████▎        | 2210/2500 [10:29:44<38:05,  7.88s/it]"
     ]
    },
    {
     "name": "stdout",
     "output_type": "stream",
     "text": [
      "sus\n"
     ]
    },
    {
     "name": "stderr",
     "output_type": "stream",
     "text": [
      " 89%|██████████████████████████████████████████████████████████████████▌        | 2218/2500 [10:30:42<22:58,  4.89s/it]"
     ]
    },
    {
     "name": "stdout",
     "output_type": "stream",
     "text": [
      "'str' object cannot be interpreted as an integer\n"
     ]
    },
    {
     "name": "stderr",
     "output_type": "stream",
     "text": [
      " 89%|██████████████████████████████████████████████████████████████████▋        | 2222/2500 [10:31:02<16:48,  3.63s/it]"
     ]
    },
    {
     "name": "stdout",
     "output_type": "stream",
     "text": [
      "sus\n"
     ]
    },
    {
     "name": "stderr",
     "output_type": "stream",
     "text": [
      " 90%|█████████████████████████████████████████████████████████████████▍       | 2239/2500 [10:34:49<2:15:44, 31.21s/it]"
     ]
    },
    {
     "name": "stdout",
     "output_type": "stream",
     "text": [
      "sus\n"
     ]
    },
    {
     "name": "stderr",
     "output_type": "stream",
     "text": [
      " 90%|███████████████████████████████████████████████████████████████████▍       | 2248/2500 [10:38:28<33:54,  8.07s/it]"
     ]
    },
    {
     "name": "stdout",
     "output_type": "stream",
     "text": [
      "sus\n"
     ]
    },
    {
     "name": "stderr",
     "output_type": "stream",
     "text": [
      " 90%|███████████████████████████████████████████████████████████████████▌       | 2252/2500 [10:38:48<24:50,  6.01s/it]"
     ]
    },
    {
     "name": "stdout",
     "output_type": "stream",
     "text": [
      "sus\n"
     ]
    },
    {
     "name": "stderr",
     "output_type": "stream",
     "text": [
      "\r",
      " 90%|███████████████████████████████████████████████████████████████████▌       | 2253/2500 [10:38:49<18:42,  4.55s/it]"
     ]
    },
    {
     "name": "stdout",
     "output_type": "stream",
     "text": [
      "sus\n"
     ]
    },
    {
     "name": "stderr",
     "output_type": "stream",
     "text": [
      " 90%|███████████████████████████████████████████████████████████████████▋       | 2256/2500 [10:38:52<08:53,  2.19s/it]"
     ]
    },
    {
     "name": "stdout",
     "output_type": "stream",
     "text": [
      "sus\n"
     ]
    },
    {
     "name": "stderr",
     "output_type": "stream",
     "text": [
      " 91%|████████████████████████████████████████████████████████████████████       | 2270/2500 [10:40:58<17:28,  4.56s/it]"
     ]
    },
    {
     "name": "stdout",
     "output_type": "stream",
     "text": [
      "sus\n"
     ]
    },
    {
     "name": "stderr",
     "output_type": "stream",
     "text": [
      " 91%|████████████████████████████████████████████████████████████████████▏      | 2272/2500 [10:40:59<10:02,  2.64s/it]"
     ]
    },
    {
     "name": "stdout",
     "output_type": "stream",
     "text": [
      "sus\n"
     ]
    },
    {
     "name": "stderr",
     "output_type": "stream",
     "text": [
      " 91%|████████████████████████████████████████████████████████████████████▎      | 2275/2500 [10:41:34<26:54,  7.17s/it]"
     ]
    },
    {
     "name": "stdout",
     "output_type": "stream",
     "text": [
      "sus\n"
     ]
    },
    {
     "name": "stderr",
     "output_type": "stream",
     "text": [
      " 91%|████████████████████████████████████████████████████████████████████▎      | 2278/2500 [10:42:10<32:36,  8.81s/it]"
     ]
    },
    {
     "name": "stdout",
     "output_type": "stream",
     "text": [
      "sus\n"
     ]
    },
    {
     "name": "stderr",
     "output_type": "stream",
     "text": [
      " 91%|████████████████████████████████████████████████████████████████████▍      | 2281/2500 [10:42:13<13:39,  3.74s/it]"
     ]
    },
    {
     "name": "stdout",
     "output_type": "stream",
     "text": [
      "sus\n"
     ]
    },
    {
     "name": "stderr",
     "output_type": "stream",
     "text": [
      " 91%|██████████████████████████████████████████████████████████████████▊      | 2287/2500 [10:48:06<3:01:03, 51.00s/it]"
     ]
    },
    {
     "name": "stdout",
     "output_type": "stream",
     "text": [
      "sus\n"
     ]
    },
    {
     "name": "stderr",
     "output_type": "stream",
     "text": [
      " 92%|█████████████████████████████████████████████████████████████████████▎     | 2309/2500 [10:51:24<31:10,  9.79s/it]"
     ]
    },
    {
     "name": "stdout",
     "output_type": "stream",
     "text": [
      "sus\n"
     ]
    },
    {
     "name": "stderr",
     "output_type": "stream",
     "text": [
      "\r",
      " 92%|█████████████████████████████████████████████████████████████████████▎     | 2310/2500 [10:51:25<22:17,  7.04s/it]"
     ]
    },
    {
     "name": "stdout",
     "output_type": "stream",
     "text": [
      "sus\n"
     ]
    },
    {
     "name": "stderr",
     "output_type": "stream",
     "text": [
      " 93%|█████████████████████████████████████████████████████████████████████▊     | 2325/2500 [10:59:36<52:20, 17.95s/it]"
     ]
    },
    {
     "name": "stdout",
     "output_type": "stream",
     "text": [
      "sus\n"
     ]
    },
    {
     "name": "stderr",
     "output_type": "stream",
     "text": [
      " 93%|██████████████████████████████████████████████████████████████████████     | 2336/2500 [11:01:07<27:24, 10.03s/it]"
     ]
    },
    {
     "name": "stdout",
     "output_type": "stream",
     "text": [
      "sus\n"
     ]
    },
    {
     "name": "stderr",
     "output_type": "stream",
     "text": [
      " 94%|██████████████████████████████████████████████████████████████████████▏    | 2338/2500 [11:01:09<14:48,  5.48s/it]"
     ]
    },
    {
     "name": "stdout",
     "output_type": "stream",
     "text": [
      "sus\n"
     ]
    },
    {
     "name": "stderr",
     "output_type": "stream",
     "text": [
      " 94%|████████████████████████████████████████████████████████████████████▌    | 2348/2500 [11:08:03<3:45:28, 89.00s/it]"
     ]
    },
    {
     "name": "stdout",
     "output_type": "stream",
     "text": [
      "sus\n"
     ]
    },
    {
     "name": "stderr",
     "output_type": "stream",
     "text": [
      " 94%|████████████████████████████████████████████████████████████████████▋    | 2353/2500 [11:08:48<1:03:44, 26.02s/it]"
     ]
    },
    {
     "name": "stdout",
     "output_type": "stream",
     "text": [
      "sus\n"
     ]
    },
    {
     "name": "stderr",
     "output_type": "stream",
     "text": [
      " 94%|██████████████████████████████████████████████████████████████████████▊    | 2361/2500 [11:09:44<15:13,  6.57s/it]"
     ]
    },
    {
     "name": "stdout",
     "output_type": "stream",
     "text": [
      "sus\n"
     ]
    },
    {
     "name": "stderr",
     "output_type": "stream",
     "text": [
      " 95%|███████████████████████████████████████████████████████████████████████▏   | 2371/2500 [11:11:14<18:08,  8.44s/it]"
     ]
    },
    {
     "name": "stdout",
     "output_type": "stream",
     "text": [
      "sus\n"
     ]
    },
    {
     "name": "stderr",
     "output_type": "stream",
     "text": [
      " 96%|████████████████████████████████████████████████████████████████████████   | 2401/2500 [11:19:40<11:41,  7.09s/it]"
     ]
    },
    {
     "name": "stdout",
     "output_type": "stream",
     "text": [
      "sus\n"
     ]
    },
    {
     "name": "stderr",
     "output_type": "stream",
     "text": [
      " 97%|████████████████████████████████████████████████████████████████████████▍  | 2414/2500 [11:21:54<15:18, 10.69s/it]"
     ]
    },
    {
     "name": "stdout",
     "output_type": "stream",
     "text": [
      "sus\n"
     ]
    },
    {
     "name": "stderr",
     "output_type": "stream",
     "text": [
      " 97%|████████████████████████████████████████████████████████████████████████▌  | 2420/2500 [11:23:34<23:01, 17.27s/it]"
     ]
    },
    {
     "name": "stdout",
     "output_type": "stream",
     "text": [
      "sus\n"
     ]
    },
    {
     "name": "stderr",
     "output_type": "stream",
     "text": [
      " 97%|████████████████████████████████████████████████████████████████████████▊  | 2425/2500 [11:27:10<35:26, 28.35s/it]"
     ]
    },
    {
     "name": "stdout",
     "output_type": "stream",
     "text": [
      "sus\n"
     ]
    },
    {
     "name": "stderr",
     "output_type": "stream",
     "text": [
      " 98%|█████████████████████████████████████████████████████████████████████████▌ | 2451/2500 [11:31:25<03:59,  4.89s/it]"
     ]
    },
    {
     "name": "stdout",
     "output_type": "stream",
     "text": [
      "sus\n"
     ]
    },
    {
     "name": "stderr",
     "output_type": "stream",
     "text": [
      " 98%|█████████████████████████████████████████████████████████████████████████▋ | 2455/2500 [11:31:45<02:41,  3.60s/it]"
     ]
    },
    {
     "name": "stdout",
     "output_type": "stream",
     "text": [
      "sus\n"
     ]
    },
    {
     "name": "stderr",
     "output_type": "stream",
     "text": [
      "100%|██████████████████████████████████████████████████████████████████████████▋| 2490/2500 [11:42:46<02:51, 17.19s/it]"
     ]
    },
    {
     "name": "stdout",
     "output_type": "stream",
     "text": [
      "sus\n"
     ]
    },
    {
     "name": "stderr",
     "output_type": "stream",
     "text": [
      "\r",
      "100%|██████████████████████████████████████████████████████████████████████████▋| 2491/2500 [11:42:56<02:15, 15.06s/it]"
     ]
    },
    {
     "name": "stdout",
     "output_type": "stream",
     "text": [
      "sus\n"
     ]
    },
    {
     "name": "stderr",
     "output_type": "stream",
     "text": [
      "\r",
      "100%|██████████████████████████████████████████████████████████████████████████▊| 2492/2500 [11:43:07<01:49, 13.64s/it]"
     ]
    },
    {
     "name": "stdout",
     "output_type": "stream",
     "text": [
      "sus\n"
     ]
    },
    {
     "name": "stderr",
     "output_type": "stream",
     "text": [
      "100%|███████████████████████████████████████████████████████████████████████████| 2500/2500 [11:48:18<00:00, 17.00s/it]\n"
     ]
    }
   ],
   "source": [
    "rows = []\n",
    "for user_name in tqdm(user_names):\n",
    "    try:\n",
    "        user_dict = {}\n",
    "        user = reddit.redditor(user_name)\n",
    "        user_dict['username'] = user_name\n",
    "        user = reddit.redditor(user_name)\n",
    "\n",
    "        if get_user_status(user) == 'active' and str(user_name) not in 'nan': # checks that user isn't suspended/deleted\n",
    "            if not user.is_mod: #ignore mods\n",
    "\n",
    "                comment_array = []\n",
    "                timestamps = []\n",
    "                reply_timestamps = []\n",
    "                comment_toxicities = []\n",
    "\n",
    "                comment_karma = user.comment_karma\n",
    "                submission_karma = user.link_karma\n",
    "\n",
    "                karma_ratio = round(comment_karma/submission_karma, 4)\n",
    "\n",
    "                try:\n",
    "                    for this_comment in user.comments.new(limit=15):\n",
    "\n",
    "                        parent_comment_id = this_comment.parent_id\n",
    "                        if parent_comment_id.startswith('t3'):\n",
    "                            parent_comment_id = parent_comment_id[3:]\n",
    "                            parent = reddit.submission(parent_comment_id)\n",
    "                        else:\n",
    "                            parent = reddit.comment(parent_comment_id)\n",
    "\n",
    "                        parent_timestamp = datetime.fromtimestamp(parent.created_utc)\n",
    "                        comment_timestamp = datetime.fromtimestamp(this_comment.created_utc)\n",
    "\n",
    "                        comment_array.append(this_comment.body)\n",
    "                        comment_toxicities.append(sentiment_toxicity(this_comment.body, **tokenizer_kwargs)[0]['score'])\n",
    "\n",
    "                        timestamps.append(comment_timestamp)\n",
    "                        reply_timestamps.append((parent_timestamp, comment_timestamp))\n",
    "\n",
    "                except Exception as e:\n",
    "                    print(e)\n",
    "                    continue\n",
    "\n",
    "                for i in range(len(comment_array)):\n",
    "#                         comment_array[i] = normalize(nlp((comment_array[i]))) # normalizes comment but leaves as string\n",
    "                    comment_array[i] = nlp(normalize(nlp((comment_array[i])))) # this normalizes comment and wraps in nlp\n",
    "\n",
    "                comment_similarities = []\n",
    "                time_intervals = []\n",
    "                response_intervals = []\n",
    "\n",
    "                for sent_1, sent_2 in combinations(comment_array, 2):\n",
    "\n",
    "#                         comment_similarities.append(calculate_cosine_sim(sent_1, sent_2)) checks cosine simularity of each comment against the next \n",
    "                    comment_similarities.append(sent_1.similarity(sent_2)) # nlp similiarity\n",
    "\n",
    "                successive_times = list(pairwise(timestamps))\n",
    "                for pair in successive_times: # calculates the intervals between user's comments\n",
    "                    time_intervals.append(abs(pair[0] - pair[1]))\n",
    "\n",
    "                for pair in reply_timestamps:\n",
    "                    response_intervals.append(abs(pair[1] - pair[0]))# calculates how quickly a comment replied to its parent\n",
    "\n",
    "                try:\n",
    "                    time_data = pd.Series(time_intervals)\n",
    "                    avg_time_diff = (time_data.sum()/len(time_data)).round('1s')\n",
    "                except Exception as e:\n",
    "                    print(e)\n",
    "                    continue\n",
    "\n",
    "                try:\n",
    "                    response_data = pd.Series(response_intervals)\n",
    "                    avg_reply_speed = (response_data.sum()/len(response_data)).round('1s')\n",
    "                except Exception as e:\n",
    "                    print(e)\n",
    "                    continue\n",
    "\n",
    "                try:\n",
    "                    avg_comment_similarity = sum(comment_similarities)/len(comment_similarities)\n",
    "                    avg_toxicity = sum(comment_toxicities)/len(comment_toxicities)\n",
    "                except ZeroDivisionError:\n",
    "                    continue\n",
    "                except Exception as e:\n",
    "                    print(e)\n",
    "                    continue\n",
    "                try:\n",
    "                    user_dict['comment_karma'] = comment_karma\n",
    "                    user_dict['submission_karma'] = submission_karma\n",
    "                    user_dict['karma_ratio'] = karma_ratio\n",
    "                    user_dict['avg_comment_similarity'] = avg_comment_similarity # formating dict\n",
    "                    user_dict['avg_toxicity'] = avg_toxicity\n",
    "                    user_dict['avg_reply_speed'] = avg_reply_speed\n",
    "                    user_dict['avg_comment_time_interval'] = avg_time_diff\n",
    "#                         user_dict['comment_intervals'] = time_intervals\n",
    "\n",
    "                    rows.append(user_dict) \n",
    "                except Exeception as e:\n",
    "                    print(e)\n",
    "                    continue\n",
    "\n",
    "    except Exception as e:\n",
    "        print(e)\n",
    "        continue\n",
    "\n",
    "users_df = pd.DataFrame.from_dict(rows, orient='columns')\n",
    "users_df.to_csv(f'{path}/{user_dir}/known_bots.csv')"
   ]
  },
  {
   "cell_type": "markdown",
   "id": "992f182b",
   "metadata": {},
   "source": [
    "### Streaming Feature Extraction"
   ]
  },
  {
   "cell_type": "code",
   "execution_count": null,
   "id": "88a2fa81",
   "metadata": {},
   "outputs": [],
   "source": [
    "rows = []\n",
    "\n",
    "for submission in botdefense.stream.submissions():\n",
    "    try:\n",
    "        user_name = submission.title[13:]\n",
    "\n",
    "        user_dict = {}\n",
    "        user_dict['username'] = user_name\n",
    "        user = reddit.redditor(user_name)\n",
    "\n",
    "        comment_karma = user.comment_karma\n",
    "        submission_karma = user.link_karma\n",
    "\n",
    "        karma_ratio = round(comment_karma/submission_karma, 4)\n",
    "\n",
    "        comment_array = []\n",
    "        timestamps = []\n",
    "        reply_timestamps = []\n",
    "        comment_toxicities = []\n",
    "\n",
    "\n",
    "        for this_comment in user.comments.new(limit=15):\n",
    "\n",
    "            parent_comment_id = this_comment.parent_id\n",
    "            if parent_comment_id.startswith('t3'):\n",
    "                parent_comment_id = parent_comment_id[3:]\n",
    "                parent = reddit.submission(parent_comment_id)\n",
    "            else:\n",
    "                parent = reddit.comment(parent_comment_id)\n",
    "\n",
    "            parent_timestamp = datetime.fromtimestamp(parent.created_utc)\n",
    "            comment_timestamp = datetime.fromtimestamp(this_comment.created_utc)\n",
    "\n",
    "            comment_array.append(this_comment.body)\n",
    "            comment_toxicities.append(sentiment_toxicity(this_comment.body, **tokenizer_kwargs)[0]['score'])\n",
    "\n",
    "            timestamps.append(comment_timestamp)\n",
    "            reply_timestamps.append((parent_timestamp, comment_timestamp))\n",
    "\n",
    "        for i in range(len(comment_array)):\n",
    "            comment_array[i] = nlp(normalize(nlp((comment_array[i]))))\n",
    "\n",
    "        comment_similarities = []\n",
    "        time_intervals = []\n",
    "        response_intervals = []\n",
    "\n",
    "        for sent_1, sent_2 in combinations(comment_array, 2):\n",
    "            comment_similarities.append(sent_1.similarity(sent_2))\n",
    "\n",
    "        successive_times = list(pairwise(timestamps))\n",
    "        for pair in successive_times: # calculates the intervals between user's comments\n",
    "            time_intervals.append(abs(pair[0] - pair[1]))\n",
    "        for pair in reply_timestamps:\n",
    "            response_intervals.append(abs(pair[1] - pair[0]))\n",
    "\n",
    "        time_data = pd.Series(time_intervals)\n",
    "        avg_time_diff = (time_data.sum()/len(time_data)).round('1s')\n",
    "\n",
    "        response_data = pd.Series(response_intervals)\n",
    "        avg_reply_speed = (response_data.sum()/len(response_data)).round('1s')\n",
    "\n",
    "        avg_comment_similarity = sum(comment_similarities)/len(comment_similarities)\n",
    "        avg_toxicity = sum(comment_toxicities)/len(comment_toxicities)\n",
    "\n",
    "        user_dict['comment_karma'] = comment_karma\n",
    "        user_dict['submission_karma'] = submission_karma\n",
    "        user_dict['karma_ratio'] = karma_ratio\n",
    "        user_dict['avg_comment_similarity'] = avg_comment_similarity # formating dict\n",
    "        user_dict['avg_toxicity'] = avg_toxicity\n",
    "        user_dict['avg_reply_speed'] = avg_reply_speed\n",
    "        user_dict['avg_comment_time_interval'] = avg_time_diff\n",
    "\n",
    "        print(user_dict)\n",
    "        rows.append(user_dict) \n",
    "\n",
    "    except Exception as e:\n",
    "        print(e)\n",
    "\n",
    "users_df = pd.DataFrame.from_dict(rows, orient='columns')\n",
    "users_df.to_csv(f'{path}/{user_dir}/suspected_bots_2.csv')"
   ]
  }
 ],
 "metadata": {
  "kernelspec": {
   "display_name": "Python 3 (ipykernel)",
   "language": "python",
   "name": "python3"
  },
  "language_info": {
   "codemirror_mode": {
    "name": "ipython",
    "version": 3
   },
   "file_extension": ".py",
   "mimetype": "text/x-python",
   "name": "python",
   "nbconvert_exporter": "python",
   "pygments_lexer": "ipython3",
   "version": "3.9.7"
  }
 },
 "nbformat": 4,
 "nbformat_minor": 5
}
